{
  "cells": [
    {
      "cell_type": "markdown",
      "metadata": {
        "id": "H9wADwK78DCz"
      },
      "source": [
        "# Proyek Analisis Data: Bike Sharing Dataset\n",
        "- **Nama:** WAHYUNI FAJRIN ROSYIDAH\n",
        "- **Email:** wahyunirosyidah@gmail.com\n",
        "- **ID Dicoding:** A587XTM495"
      ]
    },
    {
      "cell_type": "markdown",
      "metadata": {
        "id": "eE0raob58DC0"
      },
      "source": [
        "## Menentukan Pertanyaan Bisnis"
      ]
    },
    {
      "cell_type": "markdown",
      "metadata": {
        "id": "GmQeQ5YF8DC0"
      },
      "source": [
        "- Bagaimana perbedaan rata-rata penyewaan sepeda antara hari kerja dan hari libur?\n",
        "- Bagaimana perbedaan jumlah penyewaan sepeda antara jam sibuk (Peak Hours) dan jam tidak sibuk (Off-Peak Hours)?"
      ]
    },
    {
      "cell_type": "markdown",
      "metadata": {
        "id": "H-z4QGlO8DC1"
      },
      "source": [
        "## Import Semua Packages/Library yang Digunakan"
      ]
    },
    {
      "cell_type": "code",
      "execution_count": 2,
      "metadata": {
        "id": "FVYwaObI8DC1"
      },
      "outputs": [],
      "source": [
        "import numpy as np\n",
        "import pandas as pd\n",
        "import matplotlib.pyplot as plt\n",
        "import seaborn as sns\n",
        "import calendar"
      ]
    },
    {
      "cell_type": "markdown",
      "metadata": {
        "id": "h_Sh51Xy8DC1"
      },
      "source": [
        "## Data Wrangling"
      ]
    },
    {
      "cell_type": "markdown",
      "metadata": {
        "id": "sXU2GBYu8DC1"
      },
      "source": [
        "### Gathering Data"
      ]
    },
    {
      "cell_type": "markdown",
      "metadata": {},
      "source": [
        "#### Memuat tabel day"
      ]
    },
    {
      "cell_type": "code",
      "execution_count": 3,
      "metadata": {
        "id": "zjCBk1BI8DC1"
      },
      "outputs": [
        {
          "data": {
            "text/html": [
              "<div>\n",
              "<style scoped>\n",
              "    .dataframe tbody tr th:only-of-type {\n",
              "        vertical-align: middle;\n",
              "    }\n",
              "\n",
              "    .dataframe tbody tr th {\n",
              "        vertical-align: top;\n",
              "    }\n",
              "\n",
              "    .dataframe thead th {\n",
              "        text-align: right;\n",
              "    }\n",
              "</style>\n",
              "<table border=\"1\" class=\"dataframe\">\n",
              "  <thead>\n",
              "    <tr style=\"text-align: right;\">\n",
              "      <th></th>\n",
              "      <th>instant</th>\n",
              "      <th>dteday</th>\n",
              "      <th>season</th>\n",
              "      <th>yr</th>\n",
              "      <th>mnth</th>\n",
              "      <th>holiday</th>\n",
              "      <th>weekday</th>\n",
              "      <th>workingday</th>\n",
              "      <th>weathersit</th>\n",
              "      <th>temp</th>\n",
              "      <th>atemp</th>\n",
              "      <th>hum</th>\n",
              "      <th>windspeed</th>\n",
              "      <th>casual</th>\n",
              "      <th>registered</th>\n",
              "      <th>cnt</th>\n",
              "    </tr>\n",
              "  </thead>\n",
              "  <tbody>\n",
              "    <tr>\n",
              "      <th>0</th>\n",
              "      <td>1</td>\n",
              "      <td>2011-01-01</td>\n",
              "      <td>1</td>\n",
              "      <td>0</td>\n",
              "      <td>1</td>\n",
              "      <td>0</td>\n",
              "      <td>6</td>\n",
              "      <td>0</td>\n",
              "      <td>2</td>\n",
              "      <td>0.344167</td>\n",
              "      <td>0.363625</td>\n",
              "      <td>0.805833</td>\n",
              "      <td>0.160446</td>\n",
              "      <td>331</td>\n",
              "      <td>654</td>\n",
              "      <td>985</td>\n",
              "    </tr>\n",
              "    <tr>\n",
              "      <th>1</th>\n",
              "      <td>2</td>\n",
              "      <td>2011-01-02</td>\n",
              "      <td>1</td>\n",
              "      <td>0</td>\n",
              "      <td>1</td>\n",
              "      <td>0</td>\n",
              "      <td>0</td>\n",
              "      <td>0</td>\n",
              "      <td>2</td>\n",
              "      <td>0.363478</td>\n",
              "      <td>0.353739</td>\n",
              "      <td>0.696087</td>\n",
              "      <td>0.248539</td>\n",
              "      <td>131</td>\n",
              "      <td>670</td>\n",
              "      <td>801</td>\n",
              "    </tr>\n",
              "    <tr>\n",
              "      <th>2</th>\n",
              "      <td>3</td>\n",
              "      <td>2011-01-03</td>\n",
              "      <td>1</td>\n",
              "      <td>0</td>\n",
              "      <td>1</td>\n",
              "      <td>0</td>\n",
              "      <td>1</td>\n",
              "      <td>1</td>\n",
              "      <td>1</td>\n",
              "      <td>0.196364</td>\n",
              "      <td>0.189405</td>\n",
              "      <td>0.437273</td>\n",
              "      <td>0.248309</td>\n",
              "      <td>120</td>\n",
              "      <td>1229</td>\n",
              "      <td>1349</td>\n",
              "    </tr>\n",
              "    <tr>\n",
              "      <th>3</th>\n",
              "      <td>4</td>\n",
              "      <td>2011-01-04</td>\n",
              "      <td>1</td>\n",
              "      <td>0</td>\n",
              "      <td>1</td>\n",
              "      <td>0</td>\n",
              "      <td>2</td>\n",
              "      <td>1</td>\n",
              "      <td>1</td>\n",
              "      <td>0.200000</td>\n",
              "      <td>0.212122</td>\n",
              "      <td>0.590435</td>\n",
              "      <td>0.160296</td>\n",
              "      <td>108</td>\n",
              "      <td>1454</td>\n",
              "      <td>1562</td>\n",
              "    </tr>\n",
              "    <tr>\n",
              "      <th>4</th>\n",
              "      <td>5</td>\n",
              "      <td>2011-01-05</td>\n",
              "      <td>1</td>\n",
              "      <td>0</td>\n",
              "      <td>1</td>\n",
              "      <td>0</td>\n",
              "      <td>3</td>\n",
              "      <td>1</td>\n",
              "      <td>1</td>\n",
              "      <td>0.226957</td>\n",
              "      <td>0.229270</td>\n",
              "      <td>0.436957</td>\n",
              "      <td>0.186900</td>\n",
              "      <td>82</td>\n",
              "      <td>1518</td>\n",
              "      <td>1600</td>\n",
              "    </tr>\n",
              "  </tbody>\n",
              "</table>\n",
              "</div>"
            ],
            "text/plain": [
              "   instant      dteday  season  yr  mnth  holiday  weekday  workingday  \\\n",
              "0        1  2011-01-01       1   0     1        0        6           0   \n",
              "1        2  2011-01-02       1   0     1        0        0           0   \n",
              "2        3  2011-01-03       1   0     1        0        1           1   \n",
              "3        4  2011-01-04       1   0     1        0        2           1   \n",
              "4        5  2011-01-05       1   0     1        0        3           1   \n",
              "\n",
              "   weathersit      temp     atemp       hum  windspeed  casual  registered  \\\n",
              "0           2  0.344167  0.363625  0.805833   0.160446     331         654   \n",
              "1           2  0.363478  0.353739  0.696087   0.248539     131         670   \n",
              "2           1  0.196364  0.189405  0.437273   0.248309     120        1229   \n",
              "3           1  0.200000  0.212122  0.590435   0.160296     108        1454   \n",
              "4           1  0.226957  0.229270  0.436957   0.186900      82        1518   \n",
              "\n",
              "    cnt  \n",
              "0   985  \n",
              "1   801  \n",
              "2  1349  \n",
              "3  1562  \n",
              "4  1600  "
            ]
          },
          "execution_count": 3,
          "metadata": {},
          "output_type": "execute_result"
        }
      ],
      "source": [
        "day_df=pd.read_csv(\"dashboard/day.csv\")\n",
        "day_df.head()"
      ]
    },
    {
      "cell_type": "markdown",
      "metadata": {
        "id": "MMi6xGaDkbCi"
      },
      "source": [
        "**Insight:**\n",
        "- Berdasarkan hasil diatas, diperoleh data kolom dan lima baris awal dari data yang dimiliki oleh file day.csv\n",
        "- Dataset day.csv berisi data penyewaan sepeda dengan informasi seperti tanggal (dteday), musim (season), hari kerja atau libur (workingday, holiday), serta faktor cuaca (temp, hum, windspeed). Selain itu, terdapat jumlah penyewaan oleh pengguna casual, registered, dan totalnya dalam cnt."
      ]
    },
    {
      "cell_type": "markdown",
      "metadata": {},
      "source": [
        "#### Memuat tabel hour"
      ]
    },
    {
      "cell_type": "code",
      "execution_count": 4,
      "metadata": {},
      "outputs": [
        {
          "data": {
            "text/html": [
              "<div>\n",
              "<style scoped>\n",
              "    .dataframe tbody tr th:only-of-type {\n",
              "        vertical-align: middle;\n",
              "    }\n",
              "\n",
              "    .dataframe tbody tr th {\n",
              "        vertical-align: top;\n",
              "    }\n",
              "\n",
              "    .dataframe thead th {\n",
              "        text-align: right;\n",
              "    }\n",
              "</style>\n",
              "<table border=\"1\" class=\"dataframe\">\n",
              "  <thead>\n",
              "    <tr style=\"text-align: right;\">\n",
              "      <th></th>\n",
              "      <th>instant</th>\n",
              "      <th>dteday</th>\n",
              "      <th>season</th>\n",
              "      <th>yr</th>\n",
              "      <th>mnth</th>\n",
              "      <th>hr</th>\n",
              "      <th>holiday</th>\n",
              "      <th>weekday</th>\n",
              "      <th>workingday</th>\n",
              "      <th>weathersit</th>\n",
              "      <th>temp</th>\n",
              "      <th>atemp</th>\n",
              "      <th>hum</th>\n",
              "      <th>windspeed</th>\n",
              "      <th>casual</th>\n",
              "      <th>registered</th>\n",
              "      <th>cnt</th>\n",
              "    </tr>\n",
              "  </thead>\n",
              "  <tbody>\n",
              "    <tr>\n",
              "      <th>0</th>\n",
              "      <td>1</td>\n",
              "      <td>2011-01-01</td>\n",
              "      <td>1</td>\n",
              "      <td>0</td>\n",
              "      <td>1</td>\n",
              "      <td>0</td>\n",
              "      <td>0</td>\n",
              "      <td>6</td>\n",
              "      <td>0</td>\n",
              "      <td>1</td>\n",
              "      <td>0.24</td>\n",
              "      <td>0.2879</td>\n",
              "      <td>0.81</td>\n",
              "      <td>0.0</td>\n",
              "      <td>3</td>\n",
              "      <td>13</td>\n",
              "      <td>16</td>\n",
              "    </tr>\n",
              "    <tr>\n",
              "      <th>1</th>\n",
              "      <td>2</td>\n",
              "      <td>2011-01-01</td>\n",
              "      <td>1</td>\n",
              "      <td>0</td>\n",
              "      <td>1</td>\n",
              "      <td>1</td>\n",
              "      <td>0</td>\n",
              "      <td>6</td>\n",
              "      <td>0</td>\n",
              "      <td>1</td>\n",
              "      <td>0.22</td>\n",
              "      <td>0.2727</td>\n",
              "      <td>0.80</td>\n",
              "      <td>0.0</td>\n",
              "      <td>8</td>\n",
              "      <td>32</td>\n",
              "      <td>40</td>\n",
              "    </tr>\n",
              "    <tr>\n",
              "      <th>2</th>\n",
              "      <td>3</td>\n",
              "      <td>2011-01-01</td>\n",
              "      <td>1</td>\n",
              "      <td>0</td>\n",
              "      <td>1</td>\n",
              "      <td>2</td>\n",
              "      <td>0</td>\n",
              "      <td>6</td>\n",
              "      <td>0</td>\n",
              "      <td>1</td>\n",
              "      <td>0.22</td>\n",
              "      <td>0.2727</td>\n",
              "      <td>0.80</td>\n",
              "      <td>0.0</td>\n",
              "      <td>5</td>\n",
              "      <td>27</td>\n",
              "      <td>32</td>\n",
              "    </tr>\n",
              "    <tr>\n",
              "      <th>3</th>\n",
              "      <td>4</td>\n",
              "      <td>2011-01-01</td>\n",
              "      <td>1</td>\n",
              "      <td>0</td>\n",
              "      <td>1</td>\n",
              "      <td>3</td>\n",
              "      <td>0</td>\n",
              "      <td>6</td>\n",
              "      <td>0</td>\n",
              "      <td>1</td>\n",
              "      <td>0.24</td>\n",
              "      <td>0.2879</td>\n",
              "      <td>0.75</td>\n",
              "      <td>0.0</td>\n",
              "      <td>3</td>\n",
              "      <td>10</td>\n",
              "      <td>13</td>\n",
              "    </tr>\n",
              "    <tr>\n",
              "      <th>4</th>\n",
              "      <td>5</td>\n",
              "      <td>2011-01-01</td>\n",
              "      <td>1</td>\n",
              "      <td>0</td>\n",
              "      <td>1</td>\n",
              "      <td>4</td>\n",
              "      <td>0</td>\n",
              "      <td>6</td>\n",
              "      <td>0</td>\n",
              "      <td>1</td>\n",
              "      <td>0.24</td>\n",
              "      <td>0.2879</td>\n",
              "      <td>0.75</td>\n",
              "      <td>0.0</td>\n",
              "      <td>0</td>\n",
              "      <td>1</td>\n",
              "      <td>1</td>\n",
              "    </tr>\n",
              "  </tbody>\n",
              "</table>\n",
              "</div>"
            ],
            "text/plain": [
              "   instant      dteday  season  yr  mnth  hr  holiday  weekday  workingday  \\\n",
              "0        1  2011-01-01       1   0     1   0        0        6           0   \n",
              "1        2  2011-01-01       1   0     1   1        0        6           0   \n",
              "2        3  2011-01-01       1   0     1   2        0        6           0   \n",
              "3        4  2011-01-01       1   0     1   3        0        6           0   \n",
              "4        5  2011-01-01       1   0     1   4        0        6           0   \n",
              "\n",
              "   weathersit  temp   atemp   hum  windspeed  casual  registered  cnt  \n",
              "0           1  0.24  0.2879  0.81        0.0       3          13   16  \n",
              "1           1  0.22  0.2727  0.80        0.0       8          32   40  \n",
              "2           1  0.22  0.2727  0.80        0.0       5          27   32  \n",
              "3           1  0.24  0.2879  0.75        0.0       3          10   13  \n",
              "4           1  0.24  0.2879  0.75        0.0       0           1    1  "
            ]
          },
          "execution_count": 4,
          "metadata": {},
          "output_type": "execute_result"
        }
      ],
      "source": [
        "hour_df=pd.read_csv(\"dashboard/hour.csv\")\n",
        "hour_df.head()"
      ]
    },
    {
      "cell_type": "markdown",
      "metadata": {},
      "source": [
        "**Insight:**\n",
        "- Berdasarkan hasil diatas, diperoleh data kolom dan lima baris awal dari data yang dimiliki oleh file hour.csv\n",
        "- Dataset hour.csv memiliki struktur yang mirip dengan day.csv, tetapi dengan tingkat detail lebih tinggi karena mencatat data penyewaan sepeda per jam (hr). Kolom lainnya mencakup informasi tanggal (dteday), musim (season), tahun (yr), hari kerja atau libur (workingday, holiday), kondisi cuaca (weathersit, temp, hum, windspeed), serta jumlah penyewaan oleh pengguna casual, registered, dan totalnya dalam cnt. "
      ]
    },
    {
      "cell_type": "markdown",
      "metadata": {
        "id": "FHSiqaZp8DC1"
      },
      "source": [
        "### Assessing Data"
      ]
    },
    {
      "cell_type": "markdown",
      "metadata": {},
      "source": [
        "#### Menilai Data day_df"
      ]
    },
    {
      "cell_type": "code",
      "execution_count": 5,
      "metadata": {
        "id": "ax-3tEjc9Cj1"
      },
      "outputs": [
        {
          "name": "stdout",
          "output_type": "stream",
          "text": [
            "<class 'pandas.core.frame.DataFrame'>\n",
            "RangeIndex: 731 entries, 0 to 730\n",
            "Data columns (total 16 columns):\n",
            " #   Column      Non-Null Count  Dtype  \n",
            "---  ------      --------------  -----  \n",
            " 0   instant     731 non-null    int64  \n",
            " 1   dteday      731 non-null    object \n",
            " 2   season      731 non-null    int64  \n",
            " 3   yr          731 non-null    int64  \n",
            " 4   mnth        731 non-null    int64  \n",
            " 5   holiday     731 non-null    int64  \n",
            " 6   weekday     731 non-null    int64  \n",
            " 7   workingday  731 non-null    int64  \n",
            " 8   weathersit  731 non-null    int64  \n",
            " 9   temp        731 non-null    float64\n",
            " 10  atemp       731 non-null    float64\n",
            " 11  hum         731 non-null    float64\n",
            " 12  windspeed   731 non-null    float64\n",
            " 13  casual      731 non-null    int64  \n",
            " 14  registered  731 non-null    int64  \n",
            " 15  cnt         731 non-null    int64  \n",
            "dtypes: float64(4), int64(11), object(1)\n",
            "memory usage: 91.5+ KB\n"
          ]
        }
      ],
      "source": [
        "day_df.info()"
      ]
    },
    {
      "cell_type": "markdown",
      "metadata": {
        "id": "7dtxhAPrkhPL"
      },
      "source": [
        "**Insight:**\n",
        "- Terdapat kesalahan tipe data pada kolom dteday. Kolom tersebut harusnya direpresentasikan sebagai tipe data datetime, bukan object (ini digunakan untuk tipe data string)\n",
        "- Tidak terdapat missing value pada tabel day"
      ]
    },
    {
      "cell_type": "markdown",
      "metadata": {},
      "source": [
        "#### Memeriksa duplikasi pada tabel day"
      ]
    },
    {
      "cell_type": "code",
      "execution_count": 6,
      "metadata": {},
      "outputs": [
        {
          "name": "stdout",
          "output_type": "stream",
          "text": [
            "Jumlah duplikasi:  0\n"
          ]
        }
      ],
      "source": [
        "print(\"Jumlah duplikasi: \", day_df.duplicated().sum())"
      ]
    },
    {
      "cell_type": "markdown",
      "metadata": {},
      "source": [
        "**Insight:**\n",
        "- Berdasarkan hasil diatas, tidak ditemukan nilai duplikasi pada data day_df sehingga seluruh nilai dari tiap kolom aman untuk diolah."
      ]
    },
    {
      "cell_type": "markdown",
      "metadata": {},
      "source": [
        "#### Menilai Data hour_df"
      ]
    },
    {
      "cell_type": "code",
      "execution_count": 7,
      "metadata": {},
      "outputs": [
        {
          "name": "stdout",
          "output_type": "stream",
          "text": [
            "<class 'pandas.core.frame.DataFrame'>\n",
            "RangeIndex: 17379 entries, 0 to 17378\n",
            "Data columns (total 17 columns):\n",
            " #   Column      Non-Null Count  Dtype  \n",
            "---  ------      --------------  -----  \n",
            " 0   instant     17379 non-null  int64  \n",
            " 1   dteday      17379 non-null  object \n",
            " 2   season      17379 non-null  int64  \n",
            " 3   yr          17379 non-null  int64  \n",
            " 4   mnth        17379 non-null  int64  \n",
            " 5   hr          17379 non-null  int64  \n",
            " 6   holiday     17379 non-null  int64  \n",
            " 7   weekday     17379 non-null  int64  \n",
            " 8   workingday  17379 non-null  int64  \n",
            " 9   weathersit  17379 non-null  int64  \n",
            " 10  temp        17379 non-null  float64\n",
            " 11  atemp       17379 non-null  float64\n",
            " 12  hum         17379 non-null  float64\n",
            " 13  windspeed   17379 non-null  float64\n",
            " 14  casual      17379 non-null  int64  \n",
            " 15  registered  17379 non-null  int64  \n",
            " 16  cnt         17379 non-null  int64  \n",
            "dtypes: float64(4), int64(12), object(1)\n",
            "memory usage: 2.3+ MB\n"
          ]
        }
      ],
      "source": [
        "hour_df.info()"
      ]
    },
    {
      "cell_type": "markdown",
      "metadata": {},
      "source": [
        "**Insight:**\n",
        "- Terdapat kesalahan tipe data pada kolom dteday. Kolom tersebut harusnya direpresentasikan sebagai tipe data datetime, bukan object (ini digunakan untuk tipe data string)\n",
        "- Tidak terdapat missing value pada tabel hour"
      ]
    },
    {
      "cell_type": "markdown",
      "metadata": {},
      "source": [
        "#### Memeriksa duplikasi pada tabel hour"
      ]
    },
    {
      "cell_type": "code",
      "execution_count": 8,
      "metadata": {},
      "outputs": [
        {
          "name": "stdout",
          "output_type": "stream",
          "text": [
            "Jumlah duplikasi:  0\n"
          ]
        }
      ],
      "source": [
        "print(\"Jumlah duplikasi: \", hour_df.duplicated().sum())"
      ]
    },
    {
      "cell_type": "markdown",
      "metadata": {},
      "source": [
        "**Insight:**\n",
        "- Berdasarkan hasil diatas, tidak ditemukan nilai duplikasi pada data hour_df sehingga seluruh nilai dari tiap kolom aman untuk diolah."
      ]
    },
    {
      "cell_type": "markdown",
      "metadata": {
        "id": "EhN5R4hr8DC1"
      },
      "source": [
        "### Cleaning Data"
      ]
    },
    {
      "cell_type": "markdown",
      "metadata": {},
      "source": [
        "Pada proses assessing data, ditemukan beberapa kesalahan sebagai berikut:\n",
        "\n",
        "1. Kolom dteday pada tabel **day** seharusnya direpresentasikan sebagai tipe data datetime, bukan object.\n",
        "2. Kolom dteday pada tabel **hour** juga seharusnya direpresentasikan sebagai tipe data datetime, bukan object.\n",
        "\n",
        "Pada proses data cleaning, akan dilakukan perubahan tipe data pada kolom dteday di day_df dan hour_df agar sesuai dengan format yang seharusnya."
      ]
    },
    {
      "cell_type": "markdown",
      "metadata": {},
      "source": [
        "#### Clean day_df data"
      ]
    },
    {
      "cell_type": "markdown",
      "metadata": {},
      "source": [
        "**Menangani kesalahan tipe data pada kolom dteday di day_df**"
      ]
    },
    {
      "cell_type": "code",
      "execution_count": 9,
      "metadata": {
        "id": "jVnYpprE9Evz"
      },
      "outputs": [
        {
          "name": "stdout",
          "output_type": "stream",
          "text": [
            "<class 'pandas.core.frame.DataFrame'>\n",
            "RangeIndex: 731 entries, 0 to 730\n",
            "Data columns (total 16 columns):\n",
            " #   Column      Non-Null Count  Dtype         \n",
            "---  ------      --------------  -----         \n",
            " 0   instant     731 non-null    int64         \n",
            " 1   dteday      731 non-null    datetime64[ns]\n",
            " 2   season      731 non-null    int64         \n",
            " 3   yr          731 non-null    int64         \n",
            " 4   mnth        731 non-null    int64         \n",
            " 5   holiday     731 non-null    int64         \n",
            " 6   weekday     731 non-null    int64         \n",
            " 7   workingday  731 non-null    int64         \n",
            " 8   weathersit  731 non-null    int64         \n",
            " 9   temp        731 non-null    float64       \n",
            " 10  atemp       731 non-null    float64       \n",
            " 11  hum         731 non-null    float64       \n",
            " 12  windspeed   731 non-null    float64       \n",
            " 13  casual      731 non-null    int64         \n",
            " 14  registered  731 non-null    int64         \n",
            " 15  cnt         731 non-null    int64         \n",
            "dtypes: datetime64[ns](1), float64(4), int64(11)\n",
            "memory usage: 91.5 KB\n"
          ]
        }
      ],
      "source": [
        "datetime_columns = [\"dteday\"]\n",
        "for column in datetime_columns:\n",
        "  day_df[column] = pd.to_datetime(day_df[column])\n",
        "  \n",
        "day_df.info()"
      ]
    },
    {
      "cell_type": "markdown",
      "metadata": {
        "id": "Q_5ejIqckiSP"
      },
      "source": [
        "**Insight:**\n",
        "- Berdasarkan hasil yang diperoleh, tipe data pada kolom dteday yang sebelumnya adalah object berhasil diubah ke tipe data yang seharusnya yaitu datetime"
      ]
    },
    {
      "cell_type": "markdown",
      "metadata": {},
      "source": [
        "#### Clean hour_df data"
      ]
    },
    {
      "cell_type": "markdown",
      "metadata": {},
      "source": [
        "**Menangani kesalahan tipe data pada kolom dteday di hour_df**"
      ]
    },
    {
      "cell_type": "code",
      "execution_count": 10,
      "metadata": {},
      "outputs": [
        {
          "name": "stdout",
          "output_type": "stream",
          "text": [
            "<class 'pandas.core.frame.DataFrame'>\n",
            "RangeIndex: 17379 entries, 0 to 17378\n",
            "Data columns (total 17 columns):\n",
            " #   Column      Non-Null Count  Dtype         \n",
            "---  ------      --------------  -----         \n",
            " 0   instant     17379 non-null  int64         \n",
            " 1   dteday      17379 non-null  datetime64[ns]\n",
            " 2   season      17379 non-null  int64         \n",
            " 3   yr          17379 non-null  int64         \n",
            " 4   mnth        17379 non-null  int64         \n",
            " 5   hr          17379 non-null  int64         \n",
            " 6   holiday     17379 non-null  int64         \n",
            " 7   weekday     17379 non-null  int64         \n",
            " 8   workingday  17379 non-null  int64         \n",
            " 9   weathersit  17379 non-null  int64         \n",
            " 10  temp        17379 non-null  float64       \n",
            " 11  atemp       17379 non-null  float64       \n",
            " 12  hum         17379 non-null  float64       \n",
            " 13  windspeed   17379 non-null  float64       \n",
            " 14  casual      17379 non-null  int64         \n",
            " 15  registered  17379 non-null  int64         \n",
            " 16  cnt         17379 non-null  int64         \n",
            "dtypes: datetime64[ns](1), float64(4), int64(12)\n",
            "memory usage: 2.3 MB\n"
          ]
        }
      ],
      "source": [
        "datetime2_columns = [\"dteday\"]\n",
        "for column in datetime2_columns:\n",
        "  hour_df[column] = pd.to_datetime(hour_df[column])\n",
        "  \n",
        "hour_df.info()"
      ]
    },
    {
      "cell_type": "markdown",
      "metadata": {},
      "source": [
        "**Insight:**\n",
        "- Berdasarkan hasil yang diperoleh, tipe data pada kolom dteday yang sebelumnya adalah object berhasil diubah ke tipe data yang seharusnya yaitu datetime"
      ]
    },
    {
      "cell_type": "markdown",
      "metadata": {
        "id": "gp-Y6wU38DC1"
      },
      "source": [
        "## Exploratory Data Analysis (EDA)"
      ]
    },
    {
      "cell_type": "markdown",
      "metadata": {
        "id": "MW7WF2kr8DC1"
      },
      "source": [
        "### Explore day_df data"
      ]
    },
    {
      "cell_type": "code",
      "execution_count": 11,
      "metadata": {
        "id": "e9CQCZjk8DC2"
      },
      "outputs": [
        {
          "data": {
            "text/html": [
              "<div>\n",
              "<style scoped>\n",
              "    .dataframe tbody tr th:only-of-type {\n",
              "        vertical-align: middle;\n",
              "    }\n",
              "\n",
              "    .dataframe tbody tr th {\n",
              "        vertical-align: top;\n",
              "    }\n",
              "\n",
              "    .dataframe thead th {\n",
              "        text-align: right;\n",
              "    }\n",
              "</style>\n",
              "<table border=\"1\" class=\"dataframe\">\n",
              "  <thead>\n",
              "    <tr style=\"text-align: right;\">\n",
              "      <th></th>\n",
              "      <th>instant</th>\n",
              "      <th>dteday</th>\n",
              "      <th>season</th>\n",
              "      <th>yr</th>\n",
              "      <th>mnth</th>\n",
              "      <th>holiday</th>\n",
              "      <th>weekday</th>\n",
              "      <th>workingday</th>\n",
              "      <th>weathersit</th>\n",
              "      <th>temp</th>\n",
              "      <th>atemp</th>\n",
              "      <th>hum</th>\n",
              "      <th>windspeed</th>\n",
              "      <th>casual</th>\n",
              "      <th>registered</th>\n",
              "      <th>cnt</th>\n",
              "    </tr>\n",
              "  </thead>\n",
              "  <tbody>\n",
              "    <tr>\n",
              "      <th>count</th>\n",
              "      <td>731.000000</td>\n",
              "      <td>731</td>\n",
              "      <td>731.000000</td>\n",
              "      <td>731.000000</td>\n",
              "      <td>731.000000</td>\n",
              "      <td>731.000000</td>\n",
              "      <td>731.000000</td>\n",
              "      <td>731.000000</td>\n",
              "      <td>731.000000</td>\n",
              "      <td>731.000000</td>\n",
              "      <td>731.000000</td>\n",
              "      <td>731.000000</td>\n",
              "      <td>731.000000</td>\n",
              "      <td>731.000000</td>\n",
              "      <td>731.000000</td>\n",
              "      <td>731.000000</td>\n",
              "    </tr>\n",
              "    <tr>\n",
              "      <th>mean</th>\n",
              "      <td>366.000000</td>\n",
              "      <td>2012-01-01 00:00:00</td>\n",
              "      <td>2.496580</td>\n",
              "      <td>0.500684</td>\n",
              "      <td>6.519836</td>\n",
              "      <td>0.028728</td>\n",
              "      <td>2.997264</td>\n",
              "      <td>0.683995</td>\n",
              "      <td>1.395349</td>\n",
              "      <td>0.495385</td>\n",
              "      <td>0.474354</td>\n",
              "      <td>0.627894</td>\n",
              "      <td>0.190486</td>\n",
              "      <td>848.176471</td>\n",
              "      <td>3656.172367</td>\n",
              "      <td>4504.348837</td>\n",
              "    </tr>\n",
              "    <tr>\n",
              "      <th>min</th>\n",
              "      <td>1.000000</td>\n",
              "      <td>2011-01-01 00:00:00</td>\n",
              "      <td>1.000000</td>\n",
              "      <td>0.000000</td>\n",
              "      <td>1.000000</td>\n",
              "      <td>0.000000</td>\n",
              "      <td>0.000000</td>\n",
              "      <td>0.000000</td>\n",
              "      <td>1.000000</td>\n",
              "      <td>0.059130</td>\n",
              "      <td>0.079070</td>\n",
              "      <td>0.000000</td>\n",
              "      <td>0.022392</td>\n",
              "      <td>2.000000</td>\n",
              "      <td>20.000000</td>\n",
              "      <td>22.000000</td>\n",
              "    </tr>\n",
              "    <tr>\n",
              "      <th>25%</th>\n",
              "      <td>183.500000</td>\n",
              "      <td>2011-07-02 12:00:00</td>\n",
              "      <td>2.000000</td>\n",
              "      <td>0.000000</td>\n",
              "      <td>4.000000</td>\n",
              "      <td>0.000000</td>\n",
              "      <td>1.000000</td>\n",
              "      <td>0.000000</td>\n",
              "      <td>1.000000</td>\n",
              "      <td>0.337083</td>\n",
              "      <td>0.337842</td>\n",
              "      <td>0.520000</td>\n",
              "      <td>0.134950</td>\n",
              "      <td>315.500000</td>\n",
              "      <td>2497.000000</td>\n",
              "      <td>3152.000000</td>\n",
              "    </tr>\n",
              "    <tr>\n",
              "      <th>50%</th>\n",
              "      <td>366.000000</td>\n",
              "      <td>2012-01-01 00:00:00</td>\n",
              "      <td>3.000000</td>\n",
              "      <td>1.000000</td>\n",
              "      <td>7.000000</td>\n",
              "      <td>0.000000</td>\n",
              "      <td>3.000000</td>\n",
              "      <td>1.000000</td>\n",
              "      <td>1.000000</td>\n",
              "      <td>0.498333</td>\n",
              "      <td>0.486733</td>\n",
              "      <td>0.626667</td>\n",
              "      <td>0.180975</td>\n",
              "      <td>713.000000</td>\n",
              "      <td>3662.000000</td>\n",
              "      <td>4548.000000</td>\n",
              "    </tr>\n",
              "    <tr>\n",
              "      <th>75%</th>\n",
              "      <td>548.500000</td>\n",
              "      <td>2012-07-01 12:00:00</td>\n",
              "      <td>3.000000</td>\n",
              "      <td>1.000000</td>\n",
              "      <td>10.000000</td>\n",
              "      <td>0.000000</td>\n",
              "      <td>5.000000</td>\n",
              "      <td>1.000000</td>\n",
              "      <td>2.000000</td>\n",
              "      <td>0.655417</td>\n",
              "      <td>0.608602</td>\n",
              "      <td>0.730209</td>\n",
              "      <td>0.233214</td>\n",
              "      <td>1096.000000</td>\n",
              "      <td>4776.500000</td>\n",
              "      <td>5956.000000</td>\n",
              "    </tr>\n",
              "    <tr>\n",
              "      <th>max</th>\n",
              "      <td>731.000000</td>\n",
              "      <td>2012-12-31 00:00:00</td>\n",
              "      <td>4.000000</td>\n",
              "      <td>1.000000</td>\n",
              "      <td>12.000000</td>\n",
              "      <td>1.000000</td>\n",
              "      <td>6.000000</td>\n",
              "      <td>1.000000</td>\n",
              "      <td>3.000000</td>\n",
              "      <td>0.861667</td>\n",
              "      <td>0.840896</td>\n",
              "      <td>0.972500</td>\n",
              "      <td>0.507463</td>\n",
              "      <td>3410.000000</td>\n",
              "      <td>6946.000000</td>\n",
              "      <td>8714.000000</td>\n",
              "    </tr>\n",
              "    <tr>\n",
              "      <th>std</th>\n",
              "      <td>211.165812</td>\n",
              "      <td>NaN</td>\n",
              "      <td>1.110807</td>\n",
              "      <td>0.500342</td>\n",
              "      <td>3.451913</td>\n",
              "      <td>0.167155</td>\n",
              "      <td>2.004787</td>\n",
              "      <td>0.465233</td>\n",
              "      <td>0.544894</td>\n",
              "      <td>0.183051</td>\n",
              "      <td>0.162961</td>\n",
              "      <td>0.142429</td>\n",
              "      <td>0.077498</td>\n",
              "      <td>686.622488</td>\n",
              "      <td>1560.256377</td>\n",
              "      <td>1937.211452</td>\n",
              "    </tr>\n",
              "  </tbody>\n",
              "</table>\n",
              "</div>"
            ],
            "text/plain": [
              "          instant               dteday      season          yr        mnth  \\\n",
              "count  731.000000                  731  731.000000  731.000000  731.000000   \n",
              "mean   366.000000  2012-01-01 00:00:00    2.496580    0.500684    6.519836   \n",
              "min      1.000000  2011-01-01 00:00:00    1.000000    0.000000    1.000000   \n",
              "25%    183.500000  2011-07-02 12:00:00    2.000000    0.000000    4.000000   \n",
              "50%    366.000000  2012-01-01 00:00:00    3.000000    1.000000    7.000000   \n",
              "75%    548.500000  2012-07-01 12:00:00    3.000000    1.000000   10.000000   \n",
              "max    731.000000  2012-12-31 00:00:00    4.000000    1.000000   12.000000   \n",
              "std    211.165812                  NaN    1.110807    0.500342    3.451913   \n",
              "\n",
              "          holiday     weekday  workingday  weathersit        temp       atemp  \\\n",
              "count  731.000000  731.000000  731.000000  731.000000  731.000000  731.000000   \n",
              "mean     0.028728    2.997264    0.683995    1.395349    0.495385    0.474354   \n",
              "min      0.000000    0.000000    0.000000    1.000000    0.059130    0.079070   \n",
              "25%      0.000000    1.000000    0.000000    1.000000    0.337083    0.337842   \n",
              "50%      0.000000    3.000000    1.000000    1.000000    0.498333    0.486733   \n",
              "75%      0.000000    5.000000    1.000000    2.000000    0.655417    0.608602   \n",
              "max      1.000000    6.000000    1.000000    3.000000    0.861667    0.840896   \n",
              "std      0.167155    2.004787    0.465233    0.544894    0.183051    0.162961   \n",
              "\n",
              "              hum   windspeed       casual   registered          cnt  \n",
              "count  731.000000  731.000000   731.000000   731.000000   731.000000  \n",
              "mean     0.627894    0.190486   848.176471  3656.172367  4504.348837  \n",
              "min      0.000000    0.022392     2.000000    20.000000    22.000000  \n",
              "25%      0.520000    0.134950   315.500000  2497.000000  3152.000000  \n",
              "50%      0.626667    0.180975   713.000000  3662.000000  4548.000000  \n",
              "75%      0.730209    0.233214  1096.000000  4776.500000  5956.000000  \n",
              "max      0.972500    0.507463  3410.000000  6946.000000  8714.000000  \n",
              "std      0.142429    0.077498   686.622488  1560.256377  1937.211452  "
            ]
          },
          "execution_count": 11,
          "metadata": {},
          "output_type": "execute_result"
        }
      ],
      "source": [
        "day_df.describe(include=\"all\")"
      ]
    },
    {
      "cell_type": "markdown",
      "metadata": {
        "id": "th_Lzl2Fkj9O"
      },
      "source": [
        "**Insight:**\n",
        "\n",
        "Berdasarkan rangkuman parameter statistik diatas, diperoleh jumlah penyewaan sepeda paling sedikit adalah 22 sepeda dan yang terbanyak adalah 8.714 sepeda dalam satu harinya. Pada penyewa casual, per harinya paling rendah adalah 2 sepeda dan 3.410 adalah jumlah penyewaan sepeda tertingginya. Sedangkan, pada penyewa registered, jumlah penyewaan sepeda paling sedikit adalah 20 sepeda dan jumlah terbanyak adalah 6946 sepeda dalam satu harinya."
      ]
    },
    {
      "cell_type": "markdown",
      "metadata": {},
      "source": [
        "#### Total Penyewaan Sepeda\n"
      ]
    },
    {
      "cell_type": "code",
      "execution_count": 12,
      "metadata": {},
      "outputs": [
        {
          "data": {
            "text/html": [
              "<div>\n",
              "<style scoped>\n",
              "    .dataframe tbody tr th:only-of-type {\n",
              "        vertical-align: middle;\n",
              "    }\n",
              "\n",
              "    .dataframe tbody tr th {\n",
              "        vertical-align: top;\n",
              "    }\n",
              "\n",
              "    .dataframe thead th {\n",
              "        text-align: right;\n",
              "    }\n",
              "</style>\n",
              "<table border=\"1\" class=\"dataframe\">\n",
              "  <thead>\n",
              "    <tr style=\"text-align: right;\">\n",
              "      <th></th>\n",
              "      <th>registered</th>\n",
              "      <th>casual</th>\n",
              "      <th>cnt</th>\n",
              "    </tr>\n",
              "    <tr>\n",
              "      <th>year</th>\n",
              "      <th></th>\n",
              "      <th></th>\n",
              "      <th></th>\n",
              "    </tr>\n",
              "  </thead>\n",
              "  <tbody>\n",
              "    <tr>\n",
              "      <th>2011</th>\n",
              "      <td>995851</td>\n",
              "      <td>247252</td>\n",
              "      <td>1243103</td>\n",
              "    </tr>\n",
              "    <tr>\n",
              "      <th>2012</th>\n",
              "      <td>1676811</td>\n",
              "      <td>372765</td>\n",
              "      <td>2049576</td>\n",
              "    </tr>\n",
              "  </tbody>\n",
              "</table>\n",
              "</div>"
            ],
            "text/plain": [
              "      registered  casual      cnt\n",
              "year                             \n",
              "2011      995851  247252  1243103\n",
              "2012     1676811  372765  2049576"
            ]
          },
          "execution_count": 12,
          "metadata": {},
          "output_type": "execute_result"
        }
      ],
      "source": [
        "total_casual = day_df['casual'].sum()\n",
        "total_registered = day_df['registered'].sum()\n",
        "\n",
        "\n",
        "#by year\n",
        "day_df['year'] = day_df['dteday'].dt.year\n",
        "yearly_rentals = day_df.groupby(['year'])['cnt'].sum().reset_index()\n",
        "day_df.groupby(by=\"year\").agg({\n",
        "    \"registered\":\"sum\",\n",
        "    \"casual\":\"sum\",\n",
        "    \"cnt\": \"sum\"\n",
        "})"
      ]
    },
    {
      "cell_type": "markdown",
      "metadata": {},
      "source": [
        "**Insight:**\n",
        "- Berdasarkan hasil diatas didapatkan total dari seluruh penyewaan sepeda selama tahun 2011-2012 yang tidak terdaftar adalah sebanyak 620.017 sepeda dan yang terdaftar sebanyak 2.672.662 sepeda. Total dari keseluruhan jumlah penyewa pada tahun 2011-2012 adalah 3.292.679 sepeda.\n",
        "- Pada tahun 2011 dan 2012 didapatkan hasil dimana jumlah sepeda yang disewa dengan status keanggotaan registered lebih banyak dibandingkan dengan status keanggotaan casual.\n",
        "- Dalam periode waktu satu tahun, jumlah penyewaan sepeda cukup meningkat dibandingkan dengan tahun sebelumnya. Ini menunjukkan adanya peningkatan yang konsisten dalam jumlah pengguna layanan penyewaan sepeda"
      ]
    },
    {
      "cell_type": "markdown",
      "metadata": {},
      "source": [
        "#### Total Penyewaan Sepeda Per Bulan"
      ]
    },
    {
      "cell_type": "code",
      "execution_count": 13,
      "metadata": {},
      "outputs": [
        {
          "name": "stdout",
          "output_type": "stream",
          "text": [
            "    year  mnth     cnt\n",
            "0   2011     1   38189\n",
            "1   2011     2   48215\n",
            "2   2011     3   64045\n",
            "3   2011     4   94870\n",
            "4   2011     5  135821\n",
            "5   2011     6  143512\n",
            "6   2011     7  141341\n",
            "7   2011     8  136691\n",
            "8   2011     9  127418\n",
            "9   2011    10  123511\n",
            "10  2011    11  102167\n",
            "11  2011    12   87323\n",
            "12  2012     1   96744\n",
            "13  2012     2  103137\n",
            "14  2012     3  164875\n",
            "15  2012     4  174224\n",
            "16  2012     5  195865\n",
            "17  2012     6  202830\n",
            "18  2012     7  203607\n",
            "19  2012     8  214503\n",
            "20  2012     9  218573\n",
            "21  2012    10  198841\n",
            "22  2012    11  152664\n",
            "23  2012    12  123713\n"
          ]
        }
      ],
      "source": [
        "monthly_rentals = day_df.groupby(['year', 'mnth'])['cnt'].sum().reset_index()\n",
        "print(monthly_rentals)"
      ]
    },
    {
      "cell_type": "markdown",
      "metadata": {},
      "source": [
        "**Insight:**\n",
        "- Berdasarkan hasil diatas, diperoleh data jumlah seluruh sepeda yang dirental per bulannya. Didapatan bahwa terjadi penurunan pada beberapa bulan terakhir pada tiap tahunnya."
      ]
    },
    {
      "cell_type": "markdown",
      "metadata": {},
      "source": [
        "#### Penyewaan Sepeda Tertinggi"
      ]
    },
    {
      "cell_type": "code",
      "execution_count": 14,
      "metadata": {},
      "outputs": [
        {
          "name": "stdout",
          "output_type": "stream",
          "text": [
            "Bulan dengan jumlah penyewa tertinggi di 2011: Bulan June, dengan 143512 sepeda.\n",
            "Bulan dengan jumlah penyewa tertinggi di 2012: Bulan September, dengan 218573 sepeda.\n"
          ]
        }
      ],
      "source": [
        "day_df['year'] = day_df['dteday'].dt.year\n",
        "day_df['month'] = day_df['dteday'].dt.month\n",
        "monthly_rentals = day_df.groupby(['year', 'month'])['cnt'].sum().reset_index()\n",
        "\n",
        "monthly_rentals['month'] = monthly_rentals['month'].apply(lambda x: calendar.month_name[x])\n",
        "monthly_rentals['month'] = pd.Categorical(monthly_rentals['month'], categories=list(calendar.month_name[1:]), ordered=True)\n",
        "\n",
        "year_2011= monthly_rentals[monthly_rentals['year'] == 2011]\n",
        "highest_2011 = year_2011.loc[year_2011['cnt'].idxmax()]\n",
        "highest_bymonth_2011 = highest_2011['month']\n",
        "max_2011 = highest_2011['cnt']\n",
        "    \n",
        "year_2012= monthly_rentals[monthly_rentals['year'] == 2012]\n",
        "highest_2012 = year_2012.loc[year_2012['cnt'].idxmax()]\n",
        "highest_bymonth_2012 = highest_2012['month']\n",
        "max_2012 = highest_2012['cnt']\n",
        "\n",
        "print(f\"Bulan dengan jumlah penyewa tertinggi di 2011: Bulan {highest_bymonth_2011}, dengan {max_2011} sepeda.\")\n",
        "print(f\"Bulan dengan jumlah penyewa tertinggi di 2012: Bulan {highest_bymonth_2012}, dengan {max_2012} sepeda.\")"
      ]
    },
    {
      "cell_type": "markdown",
      "metadata": {},
      "source": [
        "**Insight:**\n",
        "- Berdasarkan hasil diatas diperoleh jumlah penyewaan tertinggi pada tahun 2011 adalah pada bulan Juni dengan jumlah penyewaan 143512 dan pada tahun 2012 penyewaan tertinggi jatuh pada bulan September dengan total penyewaan 218573."
      ]
    },
    {
      "cell_type": "markdown",
      "metadata": {},
      "source": [
        "#### Penyewaan Sepeda di Working Day"
      ]
    },
    {
      "cell_type": "code",
      "execution_count": 15,
      "metadata": {},
      "outputs": [
        {
          "data": {
            "text/html": [
              "<div>\n",
              "<style scoped>\n",
              "    .dataframe tbody tr th:only-of-type {\n",
              "        vertical-align: middle;\n",
              "    }\n",
              "\n",
              "    .dataframe tbody tr th {\n",
              "        vertical-align: top;\n",
              "    }\n",
              "\n",
              "    .dataframe thead tr th {\n",
              "        text-align: left;\n",
              "    }\n",
              "\n",
              "    .dataframe thead tr:last-of-type th {\n",
              "        text-align: right;\n",
              "    }\n",
              "</style>\n",
              "<table border=\"1\" class=\"dataframe\">\n",
              "  <thead>\n",
              "    <tr>\n",
              "      <th></th>\n",
              "      <th colspan=\"3\" halign=\"left\">cnt</th>\n",
              "    </tr>\n",
              "    <tr>\n",
              "      <th></th>\n",
              "      <th>max</th>\n",
              "      <th>min</th>\n",
              "      <th>mean</th>\n",
              "    </tr>\n",
              "    <tr>\n",
              "      <th>workingday</th>\n",
              "      <th></th>\n",
              "      <th></th>\n",
              "      <th></th>\n",
              "    </tr>\n",
              "  </thead>\n",
              "  <tbody>\n",
              "    <tr>\n",
              "      <th>0</th>\n",
              "      <td>8714</td>\n",
              "      <td>605</td>\n",
              "      <td>4330.168831</td>\n",
              "    </tr>\n",
              "    <tr>\n",
              "      <th>1</th>\n",
              "      <td>8362</td>\n",
              "      <td>22</td>\n",
              "      <td>4584.820000</td>\n",
              "    </tr>\n",
              "  </tbody>\n",
              "</table>\n",
              "</div>"
            ],
            "text/plain": [
              "             cnt                  \n",
              "             max  min         mean\n",
              "workingday                        \n",
              "0           8714  605  4330.168831\n",
              "1           8362   22  4584.820000"
            ]
          },
          "execution_count": 15,
          "metadata": {},
          "output_type": "execute_result"
        }
      ],
      "source": [
        "day_df.groupby(by='workingday').agg({\n",
        "    'cnt':['max','min','mean']\n",
        "})"
      ]
    },
    {
      "cell_type": "markdown",
      "metadata": {},
      "source": [
        "**Insight:**\n",
        "- Penyewaan rata-rata lebih tinggi di hari kerja. Hal ini menunjukkan bahwa sepeda lebih sering digunakan untuk keperluan transportasi harian (misalnya pergi kerja atau ke sekolah)."
      ]
    },
    {
      "cell_type": "markdown",
      "metadata": {},
      "source": [
        "#### Penyewaan Sepeda di Holiday"
      ]
    },
    {
      "cell_type": "code",
      "execution_count": 16,
      "metadata": {},
      "outputs": [
        {
          "data": {
            "text/html": [
              "<div>\n",
              "<style scoped>\n",
              "    .dataframe tbody tr th:only-of-type {\n",
              "        vertical-align: middle;\n",
              "    }\n",
              "\n",
              "    .dataframe tbody tr th {\n",
              "        vertical-align: top;\n",
              "    }\n",
              "\n",
              "    .dataframe thead tr th {\n",
              "        text-align: left;\n",
              "    }\n",
              "\n",
              "    .dataframe thead tr:last-of-type th {\n",
              "        text-align: right;\n",
              "    }\n",
              "</style>\n",
              "<table border=\"1\" class=\"dataframe\">\n",
              "  <thead>\n",
              "    <tr>\n",
              "      <th></th>\n",
              "      <th colspan=\"3\" halign=\"left\">cnt</th>\n",
              "    </tr>\n",
              "    <tr>\n",
              "      <th></th>\n",
              "      <th>max</th>\n",
              "      <th>min</th>\n",
              "      <th>mean</th>\n",
              "    </tr>\n",
              "    <tr>\n",
              "      <th>holiday</th>\n",
              "      <th></th>\n",
              "      <th></th>\n",
              "      <th></th>\n",
              "    </tr>\n",
              "  </thead>\n",
              "  <tbody>\n",
              "    <tr>\n",
              "      <th>0</th>\n",
              "      <td>8714</td>\n",
              "      <td>22</td>\n",
              "      <td>4527.104225</td>\n",
              "    </tr>\n",
              "    <tr>\n",
              "      <th>1</th>\n",
              "      <td>7403</td>\n",
              "      <td>1000</td>\n",
              "      <td>3735.000000</td>\n",
              "    </tr>\n",
              "  </tbody>\n",
              "</table>\n",
              "</div>"
            ],
            "text/plain": [
              "          cnt                   \n",
              "          max   min         mean\n",
              "holiday                         \n",
              "0        8714    22  4527.104225\n",
              "1        7403  1000  3735.000000"
            ]
          },
          "execution_count": 16,
          "metadata": {},
          "output_type": "execute_result"
        }
      ],
      "source": [
        "day_df.groupby(by='holiday').agg({\n",
        "    'cnt':['max','min','mean']\n",
        "})"
      ]
    },
    {
      "cell_type": "markdown",
      "metadata": {},
      "source": [
        "**Insight:**\n",
        "- Penyewaan rata-rata lebih tinggi pada hari non-libur nasional atau non-holiday. Hal ini menunjukkan bahwa tidak semua orang menggunakan sepeda untuk rekreasi saat libur nasional."
      ]
    },
    {
      "cell_type": "markdown",
      "metadata": {},
      "source": [
        "#### Jumlah Penyewaan Sepeda Per Hari"
      ]
    },
    {
      "cell_type": "code",
      "execution_count": 17,
      "metadata": {},
      "outputs": [
        {
          "data": {
            "text/html": [
              "<div>\n",
              "<style scoped>\n",
              "    .dataframe tbody tr th:only-of-type {\n",
              "        vertical-align: middle;\n",
              "    }\n",
              "\n",
              "    .dataframe tbody tr th {\n",
              "        vertical-align: top;\n",
              "    }\n",
              "\n",
              "    .dataframe thead tr th {\n",
              "        text-align: left;\n",
              "    }\n",
              "\n",
              "    .dataframe thead tr:last-of-type th {\n",
              "        text-align: right;\n",
              "    }\n",
              "</style>\n",
              "<table border=\"1\" class=\"dataframe\">\n",
              "  <thead>\n",
              "    <tr>\n",
              "      <th></th>\n",
              "      <th colspan=\"4\" halign=\"left\">cnt</th>\n",
              "    </tr>\n",
              "    <tr>\n",
              "      <th></th>\n",
              "      <th>max</th>\n",
              "      <th>min</th>\n",
              "      <th>mean</th>\n",
              "      <th>std</th>\n",
              "    </tr>\n",
              "    <tr>\n",
              "      <th>weekday_desc</th>\n",
              "      <th></th>\n",
              "      <th></th>\n",
              "      <th></th>\n",
              "      <th></th>\n",
              "    </tr>\n",
              "  </thead>\n",
              "  <tbody>\n",
              "    <tr>\n",
              "      <th>Friday</th>\n",
              "      <td>8362</td>\n",
              "      <td>1167</td>\n",
              "      <td>4690.288462</td>\n",
              "      <td>1874.624870</td>\n",
              "    </tr>\n",
              "    <tr>\n",
              "      <th>Thursday</th>\n",
              "      <td>7804</td>\n",
              "      <td>431</td>\n",
              "      <td>4667.259615</td>\n",
              "      <td>1939.433317</td>\n",
              "    </tr>\n",
              "    <tr>\n",
              "      <th>Saturday</th>\n",
              "      <td>8714</td>\n",
              "      <td>627</td>\n",
              "      <td>4550.542857</td>\n",
              "      <td>2196.693009</td>\n",
              "    </tr>\n",
              "    <tr>\n",
              "      <th>Wednesday</th>\n",
              "      <td>8173</td>\n",
              "      <td>441</td>\n",
              "      <td>4548.538462</td>\n",
              "      <td>2038.095884</td>\n",
              "    </tr>\n",
              "    <tr>\n",
              "      <th>Tuesday</th>\n",
              "      <td>7767</td>\n",
              "      <td>683</td>\n",
              "      <td>4510.663462</td>\n",
              "      <td>1826.911642</td>\n",
              "    </tr>\n",
              "    <tr>\n",
              "      <th>Monday</th>\n",
              "      <td>7525</td>\n",
              "      <td>22</td>\n",
              "      <td>4338.123810</td>\n",
              "      <td>1793.074013</td>\n",
              "    </tr>\n",
              "    <tr>\n",
              "      <th>Sunday</th>\n",
              "      <td>8227</td>\n",
              "      <td>605</td>\n",
              "      <td>4228.828571</td>\n",
              "      <td>1872.496629</td>\n",
              "    </tr>\n",
              "  </tbody>\n",
              "</table>\n",
              "</div>"
            ],
            "text/plain": [
              "               cnt                                \n",
              "               max   min         mean          std\n",
              "weekday_desc                                      \n",
              "Friday        8362  1167  4690.288462  1874.624870\n",
              "Thursday      7804   431  4667.259615  1939.433317\n",
              "Saturday      8714   627  4550.542857  2196.693009\n",
              "Wednesday     8173   441  4548.538462  2038.095884\n",
              "Tuesday       7767   683  4510.663462  1826.911642\n",
              "Monday        7525    22  4338.123810  1793.074013\n",
              "Sunday        8227   605  4228.828571  1872.496629"
            ]
          },
          "execution_count": 17,
          "metadata": {},
          "output_type": "execute_result"
        }
      ],
      "source": [
        "weekday_desc = {\n",
        "    0: 'Sunday',\n",
        "    1: 'Monday',\n",
        "    2: 'Tuesday',\n",
        "    3: 'Wednesday',\n",
        "    4: 'Thursday',\n",
        "    5: 'Friday',\n",
        "    6: 'Saturday'\n",
        "}\n",
        "\n",
        "day_df['weekday_desc'] = day_df['weekday'].map(weekday_desc)\n",
        "result = day_df.groupby(by=\"weekday_desc\").agg({\n",
        "    \"cnt\": [\"max\", \"min\", \"mean\", \"std\"]\n",
        "})\n",
        "result_sorted = result.sort_values((\"cnt\", \"mean\"), ascending=False)\n",
        "result_sorted"
      ]
    },
    {
      "cell_type": "markdown",
      "metadata": {},
      "source": [
        "**Insight**:\n",
        "- Hasil diatas menunjukkan statistik penyewaan sepeda berdasarkan hari dalam seminggu. Secara umum, penyewaan lebih tinggi pada hari kerja (terutama Jumat dan Kamis), yang mengindikasikan bahwa sepeda lebih banyak digunakan sebagai alat transportasi untuk bekerja, sedangkan pada akhir pekan (Sabtu dan Minggu), penyewaan tetap tinggi tetapi cenderung lebih bervariasi."
      ]
    },
    {
      "cell_type": "markdown",
      "metadata": {},
      "source": [
        "#### Pengaruh Cuaca Terhadap Penjualan Sepeda per Hari"
      ]
    },
    {
      "cell_type": "code",
      "execution_count": 18,
      "metadata": {},
      "outputs": [
        {
          "data": {
            "text/html": [
              "<div>\n",
              "<style scoped>\n",
              "    .dataframe tbody tr th:only-of-type {\n",
              "        vertical-align: middle;\n",
              "    }\n",
              "\n",
              "    .dataframe tbody tr th {\n",
              "        vertical-align: top;\n",
              "    }\n",
              "\n",
              "    .dataframe thead tr th {\n",
              "        text-align: left;\n",
              "    }\n",
              "\n",
              "    .dataframe thead tr:last-of-type th {\n",
              "        text-align: right;\n",
              "    }\n",
              "</style>\n",
              "<table border=\"1\" class=\"dataframe\">\n",
              "  <thead>\n",
              "    <tr>\n",
              "      <th></th>\n",
              "      <th colspan=\"4\" halign=\"left\">cnt</th>\n",
              "    </tr>\n",
              "    <tr>\n",
              "      <th></th>\n",
              "      <th>max</th>\n",
              "      <th>min</th>\n",
              "      <th>mean</th>\n",
              "      <th>std</th>\n",
              "    </tr>\n",
              "    <tr>\n",
              "      <th>weather_desc</th>\n",
              "      <th></th>\n",
              "      <th></th>\n",
              "      <th></th>\n",
              "      <th></th>\n",
              "    </tr>\n",
              "  </thead>\n",
              "  <tbody>\n",
              "    <tr>\n",
              "      <th>Clear, Few clouds</th>\n",
              "      <td>8714</td>\n",
              "      <td>431</td>\n",
              "      <td>4876.786177</td>\n",
              "      <td>1879.483989</td>\n",
              "    </tr>\n",
              "    <tr>\n",
              "      <th>Light Snow, Light Rain</th>\n",
              "      <td>4639</td>\n",
              "      <td>22</td>\n",
              "      <td>1803.285714</td>\n",
              "      <td>1240.284449</td>\n",
              "    </tr>\n",
              "    <tr>\n",
              "      <th>Mist + Cloudy</th>\n",
              "      <td>8362</td>\n",
              "      <td>605</td>\n",
              "      <td>4035.862348</td>\n",
              "      <td>1809.109918</td>\n",
              "    </tr>\n",
              "  </tbody>\n",
              "</table>\n",
              "</div>"
            ],
            "text/plain": [
              "                         cnt                               \n",
              "                         max  min         mean          std\n",
              "weather_desc                                               \n",
              "Clear, Few clouds       8714  431  4876.786177  1879.483989\n",
              "Light Snow, Light Rain  4639   22  1803.285714  1240.284449\n",
              "Mist + Cloudy           8362  605  4035.862348  1809.109918"
            ]
          },
          "execution_count": 18,
          "metadata": {},
          "output_type": "execute_result"
        }
      ],
      "source": [
        "weather_conditions = {\n",
        "    1: 'Clear, Few clouds',\n",
        "    2: 'Mist + Cloudy',\n",
        "    3: 'Light Snow, Light Rain',\n",
        "    4: 'Heavy Rain, Ice Pallets'\n",
        "}\n",
        "\n",
        "day_df['weather_desc'] = day_df['weathersit'].map(weather_conditions)\n",
        "result = day_df.groupby(by=\"weather_desc\").agg({\n",
        "    \"cnt\": [\"max\", \"min\", \"mean\", \"std\"]\n",
        "})\n",
        "\n",
        "result"
      ]
    },
    {
      "cell_type": "markdown",
      "metadata": {},
      "source": [
        "**Insight:**\n",
        "\n",
        "Berdasarkan kondisi cuaca per harinya, diperolah bahwa penyewaan tertinggi terjadi saat cuada cerah, sedikit berawan. Pada saat cuaca berkabut+berawan, jumlah penyewaan sepeda sedikit menurun. Sedangkan pada kondisi cuaca dengan gerimis, sedikit bersalju jumlah penyewaan mengalami penurunan drastis."
      ]
    },
    {
      "cell_type": "markdown",
      "metadata": {},
      "source": [
        "### Explore hour_df data"
      ]
    },
    {
      "cell_type": "code",
      "execution_count": 19,
      "metadata": {},
      "outputs": [
        {
          "data": {
            "text/html": [
              "<div>\n",
              "<style scoped>\n",
              "    .dataframe tbody tr th:only-of-type {\n",
              "        vertical-align: middle;\n",
              "    }\n",
              "\n",
              "    .dataframe tbody tr th {\n",
              "        vertical-align: top;\n",
              "    }\n",
              "\n",
              "    .dataframe thead th {\n",
              "        text-align: right;\n",
              "    }\n",
              "</style>\n",
              "<table border=\"1\" class=\"dataframe\">\n",
              "  <thead>\n",
              "    <tr style=\"text-align: right;\">\n",
              "      <th></th>\n",
              "      <th>instant</th>\n",
              "      <th>dteday</th>\n",
              "      <th>season</th>\n",
              "      <th>yr</th>\n",
              "      <th>mnth</th>\n",
              "      <th>hr</th>\n",
              "      <th>holiday</th>\n",
              "      <th>weekday</th>\n",
              "      <th>workingday</th>\n",
              "      <th>weathersit</th>\n",
              "      <th>temp</th>\n",
              "      <th>atemp</th>\n",
              "      <th>hum</th>\n",
              "      <th>windspeed</th>\n",
              "      <th>casual</th>\n",
              "      <th>registered</th>\n",
              "      <th>cnt</th>\n",
              "    </tr>\n",
              "  </thead>\n",
              "  <tbody>\n",
              "    <tr>\n",
              "      <th>count</th>\n",
              "      <td>17379.0000</td>\n",
              "      <td>17379</td>\n",
              "      <td>17379.000000</td>\n",
              "      <td>17379.000000</td>\n",
              "      <td>17379.000000</td>\n",
              "      <td>17379.000000</td>\n",
              "      <td>17379.000000</td>\n",
              "      <td>17379.000000</td>\n",
              "      <td>17379.000000</td>\n",
              "      <td>17379.000000</td>\n",
              "      <td>17379.000000</td>\n",
              "      <td>17379.000000</td>\n",
              "      <td>17379.000000</td>\n",
              "      <td>17379.000000</td>\n",
              "      <td>17379.000000</td>\n",
              "      <td>17379.000000</td>\n",
              "      <td>17379.000000</td>\n",
              "    </tr>\n",
              "    <tr>\n",
              "      <th>mean</th>\n",
              "      <td>8690.0000</td>\n",
              "      <td>2012-01-02 04:08:34.552045568</td>\n",
              "      <td>2.501640</td>\n",
              "      <td>0.502561</td>\n",
              "      <td>6.537775</td>\n",
              "      <td>11.546752</td>\n",
              "      <td>0.028770</td>\n",
              "      <td>3.003683</td>\n",
              "      <td>0.682721</td>\n",
              "      <td>1.425283</td>\n",
              "      <td>0.496987</td>\n",
              "      <td>0.475775</td>\n",
              "      <td>0.627229</td>\n",
              "      <td>0.190098</td>\n",
              "      <td>35.676218</td>\n",
              "      <td>153.786869</td>\n",
              "      <td>189.463088</td>\n",
              "    </tr>\n",
              "    <tr>\n",
              "      <th>min</th>\n",
              "      <td>1.0000</td>\n",
              "      <td>2011-01-01 00:00:00</td>\n",
              "      <td>1.000000</td>\n",
              "      <td>0.000000</td>\n",
              "      <td>1.000000</td>\n",
              "      <td>0.000000</td>\n",
              "      <td>0.000000</td>\n",
              "      <td>0.000000</td>\n",
              "      <td>0.000000</td>\n",
              "      <td>1.000000</td>\n",
              "      <td>0.020000</td>\n",
              "      <td>0.000000</td>\n",
              "      <td>0.000000</td>\n",
              "      <td>0.000000</td>\n",
              "      <td>0.000000</td>\n",
              "      <td>0.000000</td>\n",
              "      <td>1.000000</td>\n",
              "    </tr>\n",
              "    <tr>\n",
              "      <th>25%</th>\n",
              "      <td>4345.5000</td>\n",
              "      <td>2011-07-04 00:00:00</td>\n",
              "      <td>2.000000</td>\n",
              "      <td>0.000000</td>\n",
              "      <td>4.000000</td>\n",
              "      <td>6.000000</td>\n",
              "      <td>0.000000</td>\n",
              "      <td>1.000000</td>\n",
              "      <td>0.000000</td>\n",
              "      <td>1.000000</td>\n",
              "      <td>0.340000</td>\n",
              "      <td>0.333300</td>\n",
              "      <td>0.480000</td>\n",
              "      <td>0.104500</td>\n",
              "      <td>4.000000</td>\n",
              "      <td>34.000000</td>\n",
              "      <td>40.000000</td>\n",
              "    </tr>\n",
              "    <tr>\n",
              "      <th>50%</th>\n",
              "      <td>8690.0000</td>\n",
              "      <td>2012-01-02 00:00:00</td>\n",
              "      <td>3.000000</td>\n",
              "      <td>1.000000</td>\n",
              "      <td>7.000000</td>\n",
              "      <td>12.000000</td>\n",
              "      <td>0.000000</td>\n",
              "      <td>3.000000</td>\n",
              "      <td>1.000000</td>\n",
              "      <td>1.000000</td>\n",
              "      <td>0.500000</td>\n",
              "      <td>0.484800</td>\n",
              "      <td>0.630000</td>\n",
              "      <td>0.194000</td>\n",
              "      <td>17.000000</td>\n",
              "      <td>115.000000</td>\n",
              "      <td>142.000000</td>\n",
              "    </tr>\n",
              "    <tr>\n",
              "      <th>75%</th>\n",
              "      <td>13034.5000</td>\n",
              "      <td>2012-07-02 00:00:00</td>\n",
              "      <td>3.000000</td>\n",
              "      <td>1.000000</td>\n",
              "      <td>10.000000</td>\n",
              "      <td>18.000000</td>\n",
              "      <td>0.000000</td>\n",
              "      <td>5.000000</td>\n",
              "      <td>1.000000</td>\n",
              "      <td>2.000000</td>\n",
              "      <td>0.660000</td>\n",
              "      <td>0.621200</td>\n",
              "      <td>0.780000</td>\n",
              "      <td>0.253700</td>\n",
              "      <td>48.000000</td>\n",
              "      <td>220.000000</td>\n",
              "      <td>281.000000</td>\n",
              "    </tr>\n",
              "    <tr>\n",
              "      <th>max</th>\n",
              "      <td>17379.0000</td>\n",
              "      <td>2012-12-31 00:00:00</td>\n",
              "      <td>4.000000</td>\n",
              "      <td>1.000000</td>\n",
              "      <td>12.000000</td>\n",
              "      <td>23.000000</td>\n",
              "      <td>1.000000</td>\n",
              "      <td>6.000000</td>\n",
              "      <td>1.000000</td>\n",
              "      <td>4.000000</td>\n",
              "      <td>1.000000</td>\n",
              "      <td>1.000000</td>\n",
              "      <td>1.000000</td>\n",
              "      <td>0.850700</td>\n",
              "      <td>367.000000</td>\n",
              "      <td>886.000000</td>\n",
              "      <td>977.000000</td>\n",
              "    </tr>\n",
              "    <tr>\n",
              "      <th>std</th>\n",
              "      <td>5017.0295</td>\n",
              "      <td>NaN</td>\n",
              "      <td>1.106918</td>\n",
              "      <td>0.500008</td>\n",
              "      <td>3.438776</td>\n",
              "      <td>6.914405</td>\n",
              "      <td>0.167165</td>\n",
              "      <td>2.005771</td>\n",
              "      <td>0.465431</td>\n",
              "      <td>0.639357</td>\n",
              "      <td>0.192556</td>\n",
              "      <td>0.171850</td>\n",
              "      <td>0.192930</td>\n",
              "      <td>0.122340</td>\n",
              "      <td>49.305030</td>\n",
              "      <td>151.357286</td>\n",
              "      <td>181.387599</td>\n",
              "    </tr>\n",
              "  </tbody>\n",
              "</table>\n",
              "</div>"
            ],
            "text/plain": [
              "          instant                         dteday        season            yr  \\\n",
              "count  17379.0000                          17379  17379.000000  17379.000000   \n",
              "mean    8690.0000  2012-01-02 04:08:34.552045568      2.501640      0.502561   \n",
              "min        1.0000            2011-01-01 00:00:00      1.000000      0.000000   \n",
              "25%     4345.5000            2011-07-04 00:00:00      2.000000      0.000000   \n",
              "50%     8690.0000            2012-01-02 00:00:00      3.000000      1.000000   \n",
              "75%    13034.5000            2012-07-02 00:00:00      3.000000      1.000000   \n",
              "max    17379.0000            2012-12-31 00:00:00      4.000000      1.000000   \n",
              "std     5017.0295                            NaN      1.106918      0.500008   \n",
              "\n",
              "               mnth            hr       holiday       weekday    workingday  \\\n",
              "count  17379.000000  17379.000000  17379.000000  17379.000000  17379.000000   \n",
              "mean       6.537775     11.546752      0.028770      3.003683      0.682721   \n",
              "min        1.000000      0.000000      0.000000      0.000000      0.000000   \n",
              "25%        4.000000      6.000000      0.000000      1.000000      0.000000   \n",
              "50%        7.000000     12.000000      0.000000      3.000000      1.000000   \n",
              "75%       10.000000     18.000000      0.000000      5.000000      1.000000   \n",
              "max       12.000000     23.000000      1.000000      6.000000      1.000000   \n",
              "std        3.438776      6.914405      0.167165      2.005771      0.465431   \n",
              "\n",
              "         weathersit          temp         atemp           hum     windspeed  \\\n",
              "count  17379.000000  17379.000000  17379.000000  17379.000000  17379.000000   \n",
              "mean       1.425283      0.496987      0.475775      0.627229      0.190098   \n",
              "min        1.000000      0.020000      0.000000      0.000000      0.000000   \n",
              "25%        1.000000      0.340000      0.333300      0.480000      0.104500   \n",
              "50%        1.000000      0.500000      0.484800      0.630000      0.194000   \n",
              "75%        2.000000      0.660000      0.621200      0.780000      0.253700   \n",
              "max        4.000000      1.000000      1.000000      1.000000      0.850700   \n",
              "std        0.639357      0.192556      0.171850      0.192930      0.122340   \n",
              "\n",
              "             casual    registered           cnt  \n",
              "count  17379.000000  17379.000000  17379.000000  \n",
              "mean      35.676218    153.786869    189.463088  \n",
              "min        0.000000      0.000000      1.000000  \n",
              "25%        4.000000     34.000000     40.000000  \n",
              "50%       17.000000    115.000000    142.000000  \n",
              "75%       48.000000    220.000000    281.000000  \n",
              "max      367.000000    886.000000    977.000000  \n",
              "std       49.305030    151.357286    181.387599  "
            ]
          },
          "execution_count": 19,
          "metadata": {},
          "output_type": "execute_result"
        }
      ],
      "source": [
        "hour_df.describe(include=\"all\")"
      ]
    },
    {
      "cell_type": "markdown",
      "metadata": {},
      "source": [
        "**Insight:**\n",
        "- Berdasarkan rangkuman parameter statistik diatas, diperoleh jumlah penyewaan sepeda paling sedikit adalah 1 sepeda dan yang terbanyak adalah 977 sepeda per jamnya. Pada penyewa casual, per jamnya paling rendah adalah 0 sepeda dan 367 adalah nilai tertingginya. Sedangkan, pada penyewa registered, jumlah penyewaan sepeda paling sedikit adalah 0 sepeda dan jumlah terbanyak adalah 886 sepeda per jamnya."
      ]
    },
    {
      "cell_type": "markdown",
      "metadata": {},
      "source": [
        "**Insight:**\n",
        "- Rata-rata penyewaan tertinggi pada angin sedang (207.41), disusul tinggi (204.25), dan terendah pada angin rendah (163.69).\n",
        "- Kecepatan angin tidak terlalu mempengaruhi penyewaan sepeda secara signifikan.\n",
        "- Penyewaan maksimum relatif sama di semua kategori (sekitar 900-977).\n",
        "- Variasi penyewaan cukup besar (std tinggi), menunjukkan fluktuasi dalam jumlah penyewa di setiap kategori angin."
      ]
    },
    {
      "cell_type": "markdown",
      "metadata": {},
      "source": [
        "#### Rata-Rata Penyewaan Sepeda Berdasarkan Kondisi Cuaca per Jam"
      ]
    },
    {
      "cell_type": "code",
      "execution_count": 20,
      "metadata": {},
      "outputs": [
        {
          "data": {
            "text/html": [
              "<div>\n",
              "<style scoped>\n",
              "    .dataframe tbody tr th:only-of-type {\n",
              "        vertical-align: middle;\n",
              "    }\n",
              "\n",
              "    .dataframe tbody tr th {\n",
              "        vertical-align: top;\n",
              "    }\n",
              "\n",
              "    .dataframe thead tr th {\n",
              "        text-align: left;\n",
              "    }\n",
              "\n",
              "    .dataframe thead tr:last-of-type th {\n",
              "        text-align: right;\n",
              "    }\n",
              "</style>\n",
              "<table border=\"1\" class=\"dataframe\">\n",
              "  <thead>\n",
              "    <tr>\n",
              "      <th></th>\n",
              "      <th colspan=\"4\" halign=\"left\">cnt</th>\n",
              "    </tr>\n",
              "    <tr>\n",
              "      <th></th>\n",
              "      <th>max</th>\n",
              "      <th>min</th>\n",
              "      <th>mean</th>\n",
              "      <th>std</th>\n",
              "    </tr>\n",
              "    <tr>\n",
              "      <th>weather_desc</th>\n",
              "      <th></th>\n",
              "      <th></th>\n",
              "      <th></th>\n",
              "      <th></th>\n",
              "    </tr>\n",
              "  </thead>\n",
              "  <tbody>\n",
              "    <tr>\n",
              "      <th>Clear, Few clouds</th>\n",
              "      <td>977</td>\n",
              "      <td>1</td>\n",
              "      <td>204.869272</td>\n",
              "      <td>189.487773</td>\n",
              "    </tr>\n",
              "    <tr>\n",
              "      <th>Heavy Rain, Ice Pallets</th>\n",
              "      <td>164</td>\n",
              "      <td>23</td>\n",
              "      <td>74.333333</td>\n",
              "      <td>77.925178</td>\n",
              "    </tr>\n",
              "    <tr>\n",
              "      <th>Light Snow, Light Rain</th>\n",
              "      <td>891</td>\n",
              "      <td>1</td>\n",
              "      <td>111.579281</td>\n",
              "      <td>133.781045</td>\n",
              "    </tr>\n",
              "    <tr>\n",
              "      <th>Mist + Cloudy</th>\n",
              "      <td>957</td>\n",
              "      <td>1</td>\n",
              "      <td>175.165493</td>\n",
              "      <td>165.431589</td>\n",
              "    </tr>\n",
              "  </tbody>\n",
              "</table>\n",
              "</div>"
            ],
            "text/plain": [
              "                         cnt                            \n",
              "                         max min        mean         std\n",
              "weather_desc                                            \n",
              "Clear, Few clouds        977   1  204.869272  189.487773\n",
              "Heavy Rain, Ice Pallets  164  23   74.333333   77.925178\n",
              "Light Snow, Light Rain   891   1  111.579281  133.781045\n",
              "Mist + Cloudy            957   1  175.165493  165.431589"
            ]
          },
          "execution_count": 20,
          "metadata": {},
          "output_type": "execute_result"
        }
      ],
      "source": [
        "weather_conditions = {\n",
        "    1: 'Clear, Few clouds',\n",
        "    2: 'Mist + Cloudy',\n",
        "    3: 'Light Snow, Light Rain',\n",
        "    4: 'Heavy Rain, Ice Pallets'\n",
        "}\n",
        "\n",
        "hour_df['weather_desc'] = hour_df['weathersit'].map(weather_conditions)\n",
        "result = hour_df.groupby(by=\"weather_desc\").agg({\n",
        "    \"cnt\": [\"max\", \"min\", \"mean\", \"std\"]\n",
        "})\n",
        "\n",
        "result"
      ]
    },
    {
      "cell_type": "markdown",
      "metadata": {},
      "source": [
        "**Insight**:\n",
        "- Pada kondisi cuaca cerah, sedikit berawan (Clear, Few) clouds terjadi penyewaan yang tinggi\n",
        "- Pada kondisi cuaca berkabut dan berawan (Mist + Cloudy), jumlah penyewaan sepeda sedikit menurun, namun jumlahnya tidak jauh dengan jumlah penyewaan saat kondisi cuaca cerah\n",
        "- Pada kondisi cuaca dengan gerimis, sedikit bersalju (Light Snow, Light Rain) jumlah penyewaan mengalami sedikit penurunan\n",
        "- Pada kondisi cuaca dengan hujan deras, hujan es (Heavy Rain, Ice Pallets) jumlah penyewaan mengalami penurunan yang sangat drastis, namun pada kondisi ini kolom nilai minimum jumlah penyewaan sepeda, memiliki nilai yang tinggi dibandingkan dengan cuaca lain yaitu 23 sepeda"
      ]
    },
    {
      "cell_type": "markdown",
      "metadata": {
        "id": "zsyZjqak8DC2"
      },
      "source": [
        "## Visualization & Explanatory Analysis"
      ]
    },
    {
      "cell_type": "markdown",
      "metadata": {
        "id": "HZxOiQ6n8DC2"
      },
      "source": [
        "### Pertanyaan 1: Bagaimana perbedaan rata-rata penyewaan sepeda antara hari kerja dan hari libur?\n"
      ]
    },
    {
      "cell_type": "code",
      "execution_count": 21,
      "metadata": {},
      "outputs": [
        {
          "name": "stdout",
          "output_type": "stream",
          "text": [
            "               Category  max  min        mean\n",
            "                Holiday 7403 1000 3735.000000\n",
            "Non-Working Non-Holiday 8714  605 4389.685714\n",
            "            Working Day 8362   22 4584.820000\n"
          ]
        }
      ],
      "source": [
        "# Buat kategori baru berdasarkan kombinasi workingday dan holiday\n",
        "day_df['Category'] = day_df.apply(lambda x: \n",
        "                                  'Working Day' if x['workingday'] == 1 else \n",
        "                                  'Holiday' if x['holiday'] == 1 else \n",
        "                                  'Non-Working Non-Holiday', axis=1)\n",
        "\n",
        "# Kelompokkan data berdasarkan kategori baru\n",
        "category_stats = day_df.groupby('Category')['cnt'].agg(['max', 'min', 'mean']).reset_index()\n",
        "\n",
        "# Tampilkan hasil\n",
        "print(category_stats.to_string(index=False))\n"
      ]
    },
    {
      "cell_type": "code",
      "execution_count": 22,
      "metadata": {
        "id": "1swJUdAD8DC2"
      },
      "outputs": [
        {
          "name": "stderr",
          "output_type": "stream",
          "text": [
            "C:\\Users\\ASUS\\AppData\\Local\\Temp\\ipykernel_27896\\3895094556.py:13: FutureWarning: \n",
            "\n",
            "Passing `palette` without assigning `hue` is deprecated and will be removed in v0.14.0. Assign the `x` variable to `hue` and set `legend=False` for the same effect.\n",
            "\n",
            "  sns.barplot(data=category_stats, x='Category', y=metric, ax=ax[i], palette=colors)\n",
            "C:\\Users\\ASUS\\AppData\\Local\\Temp\\ipykernel_27896\\3895094556.py:13: FutureWarning: \n",
            "\n",
            "Passing `palette` without assigning `hue` is deprecated and will be removed in v0.14.0. Assign the `x` variable to `hue` and set `legend=False` for the same effect.\n",
            "\n",
            "  sns.barplot(data=category_stats, x='Category', y=metric, ax=ax[i], palette=colors)\n",
            "C:\\Users\\ASUS\\AppData\\Local\\Temp\\ipykernel_27896\\3895094556.py:13: FutureWarning: \n",
            "\n",
            "Passing `palette` without assigning `hue` is deprecated and will be removed in v0.14.0. Assign the `x` variable to `hue` and set `legend=False` for the same effect.\n",
            "\n",
            "  sns.barplot(data=category_stats, x='Category', y=metric, ax=ax[i], palette=colors)\n"
          ]
        },
        {
          "data": {
            "image/png": "[encoded data removed]",
            "text/plain": [
              "<Figure size 1500x500 with 3 Axes>"
            ]
          },
          "metadata": {},
          "output_type": "display_data"
        }
      ],
      "source": [
        "fig, ax = plt.subplots(1, 3, figsize=(15, 5))\n",
        "\n",
        "metrics = ['max', 'min', 'mean']\n",
        "titles = ['Maximum Rentals', 'Minimum Rentals', 'Average Rentals']\n",
        "\n",
        "for i, metric in enumerate(metrics):\n",
        "    # Menentukan kategori dengan nilai tertinggi\n",
        "    max_category = category_stats.loc[category_stats[metric].idxmax(), 'Category']\n",
        "    \n",
        "    # Menentukan warna: warna khusus untuk nilai tertinggi, lainnya pakai warna netral\n",
        "    colors = ['gray' if cat != max_category else 'blue' for cat in category_stats['Category']]\n",
        "    \n",
        "    sns.barplot(data=category_stats, x='Category', y=metric, ax=ax[i], palette=colors)\n",
        "    ax[i].set_title(titles[i])\n",
        "    ax[i].set_ylabel('Number of Rentals (Unit)')\n",
        "    ax[i].set_xlabel('')\n",
        "    \n",
        "plt.tight_layout()\n",
        "plt.show()"
      ]
    },
    {
      "cell_type": "markdown",
      "metadata": {},
      "source": [
        "**Insight**:\n",
        "- Analisis ini bertujuan untuk memahami pola penggunaan sepeda berdasarkan jenis hari, sehingga dapat membantu dalam perencanaan operasional dan strategi promosi yang lebih tepat serta mengoptimalkan ketersediaan sepeda, menyesuaikan strategi harga, serta merancang promosi yang lebih efektif sesuai tren penggunaan.\n",
        "- Hari Kerja memiliki rata-rata penyewaan tertinggi (4.584,82), menunjukkan bahwa sepeda lebih banyak digunakan sebagai alat transportasi utama daripada sekadar rekreasi.\n",
        "- Hari Libur Nasional memiliki rata-rata penyewaan terendah (3.735), menandakan bahwa orang cenderung kurang menggunakan sepeda saat libur nasional.\n",
        "- Hari Tidak Bekerja tapi Bukan Libur Nasional memiliki jumlah penyewaan tertinggi (8.714 pada puncaknya), menunjukkan bahwa sepeda lebih populer untuk aktivitas santai saat libur non-resmi seperti akhir pekan atau cuti bersama."
      ]
    },
    {
      "cell_type": "markdown",
      "metadata": {
        "id": "DgHI7CiU8DC2"
      },
      "source": [
        "### Pertanyaan 2: Bagaimana perbedaan jumlah penyewaan sepeda antara jam sibuk (Peak Hours) dan jam tidak sibuk (Off-Peak Hours)?"
      ]
    },
    {
      "cell_type": "code",
      "execution_count": 23,
      "metadata": {},
      "outputs": [
        {
          "data": {
            "text/html": [
              "<div>\n",
              "<style scoped>\n",
              "    .dataframe tbody tr th:only-of-type {\n",
              "        vertical-align: middle;\n",
              "    }\n",
              "\n",
              "    .dataframe tbody tr th {\n",
              "        vertical-align: top;\n",
              "    }\n",
              "\n",
              "    .dataframe thead th {\n",
              "        text-align: right;\n",
              "    }\n",
              "</style>\n",
              "<table border=\"1\" class=\"dataframe\">\n",
              "  <thead>\n",
              "    <tr style=\"text-align: right;\">\n",
              "      <th></th>\n",
              "      <th>hr</th>\n",
              "      <th>cnt</th>\n",
              "      <th>Category</th>\n",
              "    </tr>\n",
              "  </thead>\n",
              "  <tbody>\n",
              "    <tr>\n",
              "      <th>17</th>\n",
              "      <td>17</td>\n",
              "      <td>336860</td>\n",
              "      <td>Peak Hour</td>\n",
              "    </tr>\n",
              "    <tr>\n",
              "      <th>18</th>\n",
              "      <td>18</td>\n",
              "      <td>309772</td>\n",
              "      <td>Peak Hour</td>\n",
              "    </tr>\n",
              "    <tr>\n",
              "      <th>8</th>\n",
              "      <td>8</td>\n",
              "      <td>261001</td>\n",
              "      <td>Peak Hour</td>\n",
              "    </tr>\n",
              "    <tr>\n",
              "      <th>16</th>\n",
              "      <td>16</td>\n",
              "      <td>227748</td>\n",
              "      <td>Peak Hour</td>\n",
              "    </tr>\n",
              "    <tr>\n",
              "      <th>19</th>\n",
              "      <td>19</td>\n",
              "      <td>226789</td>\n",
              "      <td>Peak Hour</td>\n",
              "    </tr>\n",
              "    <tr>\n",
              "      <th>13</th>\n",
              "      <td>13</td>\n",
              "      <td>184919</td>\n",
              "      <td>Peak Hour</td>\n",
              "    </tr>\n",
              "    <tr>\n",
              "      <th>12</th>\n",
              "      <td>12</td>\n",
              "      <td>184414</td>\n",
              "      <td>Normal Hour</td>\n",
              "    </tr>\n",
              "    <tr>\n",
              "      <th>15</th>\n",
              "      <td>15</td>\n",
              "      <td>183149</td>\n",
              "      <td>Normal Hour</td>\n",
              "    </tr>\n",
              "    <tr>\n",
              "      <th>14</th>\n",
              "      <td>14</td>\n",
              "      <td>175652</td>\n",
              "      <td>Normal Hour</td>\n",
              "    </tr>\n",
              "    <tr>\n",
              "      <th>20</th>\n",
              "      <td>20</td>\n",
              "      <td>164550</td>\n",
              "      <td>Normal Hour</td>\n",
              "    </tr>\n",
              "    <tr>\n",
              "      <th>9</th>\n",
              "      <td>9</td>\n",
              "      <td>159438</td>\n",
              "      <td>Normal Hour</td>\n",
              "    </tr>\n",
              "    <tr>\n",
              "      <th>7</th>\n",
              "      <td>7</td>\n",
              "      <td>154171</td>\n",
              "      <td>Normal Hour</td>\n",
              "    </tr>\n",
              "    <tr>\n",
              "      <th>11</th>\n",
              "      <td>11</td>\n",
              "      <td>151320</td>\n",
              "      <td>Normal Hour</td>\n",
              "    </tr>\n",
              "    <tr>\n",
              "      <th>10</th>\n",
              "      <td>10</td>\n",
              "      <td>126257</td>\n",
              "      <td>Normal Hour</td>\n",
              "    </tr>\n",
              "    <tr>\n",
              "      <th>21</th>\n",
              "      <td>21</td>\n",
              "      <td>125445</td>\n",
              "      <td>Normal Hour</td>\n",
              "    </tr>\n",
              "    <tr>\n",
              "      <th>22</th>\n",
              "      <td>22</td>\n",
              "      <td>95612</td>\n",
              "      <td>Normal Hour</td>\n",
              "    </tr>\n",
              "    <tr>\n",
              "      <th>23</th>\n",
              "      <td>23</td>\n",
              "      <td>63941</td>\n",
              "      <td>Normal Hour</td>\n",
              "    </tr>\n",
              "    <tr>\n",
              "      <th>6</th>\n",
              "      <td>6</td>\n",
              "      <td>55132</td>\n",
              "      <td>Normal Hour</td>\n",
              "    </tr>\n",
              "    <tr>\n",
              "      <th>0</th>\n",
              "      <td>0</td>\n",
              "      <td>39130</td>\n",
              "      <td>Off-Peak Hour</td>\n",
              "    </tr>\n",
              "    <tr>\n",
              "      <th>1</th>\n",
              "      <td>1</td>\n",
              "      <td>24164</td>\n",
              "      <td>Off-Peak Hour</td>\n",
              "    </tr>\n",
              "    <tr>\n",
              "      <th>2</th>\n",
              "      <td>2</td>\n",
              "      <td>16352</td>\n",
              "      <td>Off-Peak Hour</td>\n",
              "    </tr>\n",
              "    <tr>\n",
              "      <th>5</th>\n",
              "      <td>5</td>\n",
              "      <td>14261</td>\n",
              "      <td>Off-Peak Hour</td>\n",
              "    </tr>\n",
              "    <tr>\n",
              "      <th>3</th>\n",
              "      <td>3</td>\n",
              "      <td>8174</td>\n",
              "      <td>Off-Peak Hour</td>\n",
              "    </tr>\n",
              "    <tr>\n",
              "      <th>4</th>\n",
              "      <td>4</td>\n",
              "      <td>4428</td>\n",
              "      <td>Off-Peak Hour</td>\n",
              "    </tr>\n",
              "  </tbody>\n",
              "</table>\n",
              "</div>"
            ],
            "text/plain": [
              "    hr     cnt       Category\n",
              "17  17  336860      Peak Hour\n",
              "18  18  309772      Peak Hour\n",
              "8    8  261001      Peak Hour\n",
              "16  16  227748      Peak Hour\n",
              "19  19  226789      Peak Hour\n",
              "13  13  184919      Peak Hour\n",
              "12  12  184414    Normal Hour\n",
              "15  15  183149    Normal Hour\n",
              "14  14  175652    Normal Hour\n",
              "20  20  164550    Normal Hour\n",
              "9    9  159438    Normal Hour\n",
              "7    7  154171    Normal Hour\n",
              "11  11  151320    Normal Hour\n",
              "10  10  126257    Normal Hour\n",
              "21  21  125445    Normal Hour\n",
              "22  22   95612    Normal Hour\n",
              "23  23   63941    Normal Hour\n",
              "6    6   55132    Normal Hour\n",
              "0    0   39130  Off-Peak Hour\n",
              "1    1   24164  Off-Peak Hour\n",
              "2    2   16352  Off-Peak Hour\n",
              "5    5   14261  Off-Peak Hour\n",
              "3    3    8174  Off-Peak Hour\n",
              "4    4    4428  Off-Peak Hour"
            ]
          },
          "execution_count": 23,
          "metadata": {},
          "output_type": "execute_result"
        }
      ],
      "source": [
        "hourly_rentals = hour_df.groupby(\"hr\")[\"cnt\"].sum().reset_index()\n",
        "\n",
        "q75 = hourly_rentals[\"cnt\"].quantile(0.75) \n",
        "q25 = hourly_rentals[\"cnt\"].quantile(0.25) \n",
        "\n",
        "hourly_rentals[\"Category\"] = hourly_rentals[\"cnt\"].apply(\n",
        "    lambda x: \"Peak Hour\" if x >= q75 else (\"Off-Peak Hour\" if x <= q25 else \"Normal Hour\")\n",
        ")\n",
        "\n",
        "hourly_rentals = hourly_rentals.sort_values(by=\"cnt\", ascending=False)\n",
        "\n",
        "hourly_rentals"
      ]
    },
    {
      "cell_type": "code",
      "execution_count": 24,
      "metadata": {
        "id": "Go0lCsvO8DC2"
      },
      "outputs": [
        {
          "data": {
            "image/png": "[encoded data removed]",
            "text/plain": [
              "<Figure size 1200x600 with 1 Axes>"
            ]
          },
          "metadata": {},
          "output_type": "display_data"
        }
      ],
      "source": [
        "# Visualisasi\n",
        "plt.figure(figsize=(12, 6))\n",
        "sns.barplot(x=\"hr\", y=\"cnt\", hue=\"Category\", data=hourly_rentals, palette={\"Peak Hour\": \"blue\", \"Off-Peak Hour\": \"red\", \"Normal Hour\": \"gray\"})\n",
        "plt.xlabel(\"Hour\")\n",
        "plt.ylabel(\"Average Rentals (Unit)\")\n",
        "plt.title(\"Peak vs. Off-Peak Hours\")\n",
        "plt.xticks(range(0, 24))\n",
        "plt.legend(title=\"Category\")\n",
        "plt.show()"
      ]
    },
    {
      "cell_type": "markdown",
      "metadata": {
        "id": "_0-36BDLklRg"
      },
      "source": [
        "**Insight:**\n",
        "- Analisis ini bertujuan untuk mengidentifikasi pola penggunaan layanan bike sharing berdasarkan waktu, sehingga dapat membantu dalam perencanaan operasional dan strategi bisnis seperti mengoptimalkan ketersediaan sepeda, mengatur jadwal pemeliharaan, serta menyusun strategi promosi yang lebih tepat waktu.\n",
        "- Jam sibuk(Peak Hour) terjadi pada pukul 8 pagi dan 16-19 sore, dengan puncak penyewaan tertinggi terjadi pada pukul 17:00 (336.860 penyewaan) dan 18:00 (309.772 penyewaan).\n",
        "- Jam normal terjadi di siang hingga malam hari (10:00-22:00), dengan penyewaan yang masih cukup tinggi, tetapi tidak setinggi jam sibuk. \n",
        "- Jam sepi (Off-Peak) terjadi antara pukul 00:00 hingga 05:00, dengan penyewaan terendah terjadi pada pukul 04:00 (4.428 penyewaan), yang menunjukkan bahwa sepeda hampir tidak digunakan di waktu dini hari."
      ]
    },
    {
      "cell_type": "markdown",
      "metadata": {
        "id": "9y4VUsmcYNZ5"
      },
      "source": [
        "## Analisis Lanjutan"
      ]
    },
    {
      "cell_type": "markdown",
      "metadata": {},
      "source": [
        "### Analisis Pengaruh Kecepatan Angin Terhadap Penjualan Sepeda"
      ]
    },
    {
      "cell_type": "code",
      "execution_count": 25,
      "metadata": {},
      "outputs": [
        {
          "data": {
            "text/html": [
              "<div>\n",
              "<style scoped>\n",
              "    .dataframe tbody tr th:only-of-type {\n",
              "        vertical-align: middle;\n",
              "    }\n",
              "\n",
              "    .dataframe tbody tr th {\n",
              "        vertical-align: top;\n",
              "    }\n",
              "\n",
              "    .dataframe thead th {\n",
              "        text-align: right;\n",
              "    }\n",
              "</style>\n",
              "<table border=\"1\" class=\"dataframe\">\n",
              "  <thead>\n",
              "    <tr style=\"text-align: right;\">\n",
              "      <th></th>\n",
              "      <th>mean</th>\n",
              "      <th>max</th>\n",
              "      <th>min</th>\n",
              "      <th>std</th>\n",
              "    </tr>\n",
              "    <tr>\n",
              "      <th>windspeed_category</th>\n",
              "      <th></th>\n",
              "      <th></th>\n",
              "      <th></th>\n",
              "      <th></th>\n",
              "    </tr>\n",
              "  </thead>\n",
              "  <tbody>\n",
              "    <tr>\n",
              "      <th>Medium</th>\n",
              "      <td>212.606008</td>\n",
              "      <td>977</td>\n",
              "      <td>1</td>\n",
              "      <td>189.359003</td>\n",
              "    </tr>\n",
              "    <tr>\n",
              "      <th>High</th>\n",
              "      <td>198.576042</td>\n",
              "      <td>900</td>\n",
              "      <td>1</td>\n",
              "      <td>172.552978</td>\n",
              "    </tr>\n",
              "    <tr>\n",
              "      <th>Low</th>\n",
              "      <td>179.732262</td>\n",
              "      <td>976</td>\n",
              "      <td>1</td>\n",
              "      <td>178.053641</td>\n",
              "    </tr>\n",
              "  </tbody>\n",
              "</table>\n",
              "</div>"
            ],
            "text/plain": [
              "                          mean  max  min         std\n",
              "windspeed_category                                  \n",
              "Medium              212.606008  977    1  189.359003\n",
              "High                198.576042  900    1  172.552978\n",
              "Low                 179.732262  976    1  178.053641"
            ]
          },
          "execution_count": 25,
          "metadata": {},
          "output_type": "execute_result"
        }
      ],
      "source": [
        "def categorize_windspeed(wind):\n",
        "    if wind < 0.25:\n",
        "        return 'Low'\n",
        "    elif wind < 0.40:\n",
        "        return 'Medium'\n",
        "    else:\n",
        "        return 'High'\n",
        "\n",
        "hour_df['windspeed_category'] = hour_df['windspeed'].apply(categorize_windspeed)\n",
        "windspeed_stats = hour_df.groupby('windspeed_category')['cnt'].agg(['mean', 'max', 'min', 'std'])\n",
        "windspeed_stats = windspeed_stats.sort_values(by='mean', ascending=False)\n",
        "windspeed_stats\n",
        "\n"
      ]
    },
    {
      "cell_type": "code",
      "execution_count": 26,
      "metadata": {},
      "outputs": [
        {
          "name": "stderr",
          "output_type": "stream",
          "text": [
            "C:\\Users\\ASUS\\AppData\\Local\\Temp\\ipykernel_27896\\142376630.py:5: FutureWarning: \n",
            "\n",
            "Passing `palette` without assigning `hue` is deprecated and will be removed in v0.14.0. Assign the `x` variable to `hue` and set `legend=False` for the same effect.\n",
            "\n",
            "  sns.barplot(x=windspeed_stats.index, y=windspeed_stats['mean'], palette=colors)\n"
          ]
        },
        {
          "data": {
            "image/png": "[encoded data removed]",
            "text/plain": [
              "<Figure size 1000x500 with 1 Axes>"
            ]
          },
          "metadata": {},
          "output_type": "display_data"
        }
      ],
      "source": [
        "plt.figure(figsize=(10, 5))\n",
        "max_category = windspeed_stats['mean'].idxmax()\n",
        "colors = [\"blue\" if cat == max_category else \"gray\" for cat in windspeed_stats.index]\n",
        "\n",
        "sns.barplot(x=windspeed_stats.index, y=windspeed_stats['mean'], palette=colors)\n",
        "\n",
        "plt.title(\"Average Rentals by Windspeed\", fontsize=14)\n",
        "plt.xlabel(\"Windspeed Category\", fontsize=12)\n",
        "plt.ylabel(\"Average Rentals (Unit)\", fontsize=12)\n",
        "plt.show()"
      ]
    },
    {
      "cell_type": "markdown",
      "metadata": {},
      "source": [
        "**Insight:**\n",
        "- Tujuan analisis ini adalah untuk memahami pengaruh kecepatan angin terhadap jumlah penyewaan sepeda. Hasilnya dapat digunakan untuk memprediksi permintaan, mengoptimalkan strategi bisnis, dan menyesuaikan layanan agar tetap stabil dalam berbagai kondisi cuaca.\n",
        "- Kecepatan angin kategori Medium (Sedang) memiliki rata-rata jumlah penyewaan tertinggi (212.61), dibandingkan kategori High (198.58) dan Low (179.73).\n",
        "- Kategori Low (Rendah) memiliki rata-rata terendah, tetapi memiliki nilai maksimum penyewaan (976) yang hampir sama dengan Medium (977).\n",
        "- Kecepatan angin tidak terlalu berpengaru terhadap jumlah penyewaan sepeda karena nilai rata-rata yang didapatkan ketiga kategori kecepatan angin tersebut tidak berbeda jauh.\n"
      ]
    },
    {
      "cell_type": "markdown",
      "metadata": {},
      "source": [
        "#### Analisis Jumlah Penyewaan Sepeda Berdasarkan Kategori Waktu"
      ]
    },
    {
      "cell_type": "code",
      "execution_count": 27,
      "metadata": {},
      "outputs": [
        {
          "name": "stderr",
          "output_type": "stream",
          "text": [
            "C:\\Users\\ASUS\\AppData\\Local\\Temp\\ipykernel_27896\\1563698683.py:6: FutureWarning: The default of observed=False is deprecated and will be changed to True in a future version of pandas. Pass observed=False to retain current behavior or observed=True to adopt the future default and silence this warning.\n",
            "  time_category = hour_df.groupby('time_bin')['cnt'].sum().reset_index()\n"
          ]
        },
        {
          "data": {
            "text/html": [
              "<div>\n",
              "<style scoped>\n",
              "    .dataframe tbody tr th:only-of-type {\n",
              "        vertical-align: middle;\n",
              "    }\n",
              "\n",
              "    .dataframe tbody tr th {\n",
              "        vertical-align: top;\n",
              "    }\n",
              "\n",
              "    .dataframe thead th {\n",
              "        text-align: right;\n",
              "    }\n",
              "</style>\n",
              "<table border=\"1\" class=\"dataframe\">\n",
              "  <thead>\n",
              "    <tr style=\"text-align: right;\">\n",
              "      <th></th>\n",
              "      <th>time_bin</th>\n",
              "      <th>cnt</th>\n",
              "    </tr>\n",
              "  </thead>\n",
              "  <tbody>\n",
              "    <tr>\n",
              "      <th>3</th>\n",
              "      <td>Sore</td>\n",
              "      <td>1101169</td>\n",
              "    </tr>\n",
              "    <tr>\n",
              "      <th>1</th>\n",
              "      <td>Pagi</td>\n",
              "      <td>907319</td>\n",
              "    </tr>\n",
              "    <tr>\n",
              "      <th>2</th>\n",
              "      <td>Siang</td>\n",
              "      <td>728134</td>\n",
              "    </tr>\n",
              "    <tr>\n",
              "      <th>4</th>\n",
              "      <td>Malam</td>\n",
              "      <td>449548</td>\n",
              "    </tr>\n",
              "    <tr>\n",
              "      <th>0</th>\n",
              "      <td>Dini Hari</td>\n",
              "      <td>106509</td>\n",
              "    </tr>\n",
              "  </tbody>\n",
              "</table>\n",
              "</div>"
            ],
            "text/plain": [
              "    time_bin      cnt\n",
              "3       Sore  1101169\n",
              "1       Pagi   907319\n",
              "2      Siang   728134\n",
              "4      Malam   449548\n",
              "0  Dini Hari   106509"
            ]
          },
          "execution_count": 27,
          "metadata": {},
          "output_type": "execute_result"
        }
      ],
      "source": [
        "\n",
        "batas = [0, 5, 11, 15, 19, 23]  \n",
        "labels = ['Dini Hari', 'Pagi', 'Siang', 'Sore', 'Malam']\n",
        "\n",
        "# Gunakan pd.cut() untuk binning\n",
        "hour_df['time_bin'] = pd.cut(hour_df['hr'], bins=batas, labels=labels, include_lowest=True)\n",
        "time_category = hour_df.groupby('time_bin')['cnt'].sum().reset_index()\n",
        "time_category = time_category.sort_values(by='cnt', ascending=False)\n",
        "\n",
        "time_category\n"
      ]
    },
    {
      "cell_type": "code",
      "execution_count": 28,
      "metadata": {},
      "outputs": [
        {
          "name": "stderr",
          "output_type": "stream",
          "text": [
            "C:\\Users\\ASUS\\AppData\\Local\\Temp\\ipykernel_27896\\2544999944.py:7: FutureWarning: \n",
            "\n",
            "Passing `palette` without assigning `hue` is deprecated and will be removed in v0.14.0. Assign the `x` variable to `hue` and set `legend=False` for the same effect.\n",
            "\n",
            "  bar_plot = sns.barplot(x='time_bin',\n"
          ]
        },
        {
          "data": {
            "image/png": "[encoded data removed]",
            "text/plain": [
              "<Figure size 1000x600 with 1 Axes>"
            ]
          },
          "metadata": {},
          "output_type": "display_data"
        }
      ],
      "source": [
        "plt.figure(figsize=(10, 6))\n",
        "\n",
        "max_index = time_category['cnt'].idxmax()  \n",
        "\n",
        "colors = ['blue' if i == max_index else 'gray' for i in range(len(time_category))]\n",
        "\n",
        "bar_plot = sns.barplot(x='time_bin', \n",
        "                       y='cnt', \n",
        "                       data=time_category, \n",
        "                       palette=colors)\n",
        "\n",
        "plt.title('Bike Rentals by Time Category')\n",
        "plt.xlabel('Time Category')\n",
        "plt.ylabel('Number of Rentals (Unit)')\n",
        "\n",
        "plt.ticklabel_format(style='plain', axis='y')\n",
        "\n",
        "plt.show()\n"
      ]
    },
    {
      "cell_type": "markdown",
      "metadata": {},
      "source": [
        "**Insight:**\n",
        "- Tujuan analisis ini adalah untuk memahami pola penggunaan sepeda berdasarkan waktu agar dapat mengoptimalkan ketersediaan sepeda pada jam-jam sibuk, membantu perencanaan operasional, serta memberikan wawasan bagi bisnis dalam meningkatkan fasilitas pendukung. Selain itu, hasil analisis ini juga bermanfaat bagi pengguna untuk merencanakan perjalanan mereka dengan lebih efisien.\n",
        "- Kategori Sore (15:00 - 19:00) memiliki jumlah penyewaan tertinggi dengan 1.101.169 penyewaan. Ini menunjukkan bahwa banyak orang menggunakan sepeda pada sore hari, kemungkinan besar untuk perjalanan pulang kerja/sekolah atau rekreasi.\n",
        "- Kategori Pagi (05:00 - 11:00) berada di posisi kedua dengan 907.319 penyewaan. Ini bisa disebabkan oleh penggunaan sepeda untuk perjalanan ke kantor/sekolah dan olahraga pagi.\n",
        "- Kategori Siang (11:00 - 15:00) memiliki penyewaan lebih rendah dibanding pagi dan sore dengan 728.134 penyewaan. Mungkin karena ini adalah waktu istirahat atau orang lebih memilih kendaraan lain saat cuaca panas.\n",
        "- Kategori Malam (19:00 - 23:00) dan Dini Hari (00:00 - 05:00) memiliki jumlah penyewaan terendah dengan masing-masing 449.548 dan 106.509 penyewaan. Hal ini wajar karena lebih sedikit orang yang beraktivitas menggunakan sepeda di waktu-waktu ini.\n"
      ]
    },
    {
      "cell_type": "markdown",
      "metadata": {},
      "source": [
        "#### Analisis Rata-Rata Jumlah Penyewaan Sepeda Berdasarkan Musim"
      ]
    },
    {
      "cell_type": "code",
      "execution_count": 29,
      "metadata": {},
      "outputs": [
        {
          "data": {
            "text/html": [
              "<div>\n",
              "<style scoped>\n",
              "    .dataframe tbody tr th:only-of-type {\n",
              "        vertical-align: middle;\n",
              "    }\n",
              "\n",
              "    .dataframe tbody tr th {\n",
              "        vertical-align: top;\n",
              "    }\n",
              "\n",
              "    .dataframe thead th {\n",
              "        text-align: right;\n",
              "    }\n",
              "</style>\n",
              "<table border=\"1\" class=\"dataframe\">\n",
              "  <thead>\n",
              "    <tr style=\"text-align: right;\">\n",
              "      <th></th>\n",
              "      <th>season</th>\n",
              "      <th>cnt</th>\n",
              "      <th>season_desc</th>\n",
              "    </tr>\n",
              "  </thead>\n",
              "  <tbody>\n",
              "    <tr>\n",
              "      <th>0</th>\n",
              "      <td>1</td>\n",
              "      <td>111.114569</td>\n",
              "      <td>Spring</td>\n",
              "    </tr>\n",
              "    <tr>\n",
              "      <th>1</th>\n",
              "      <td>2</td>\n",
              "      <td>208.344069</td>\n",
              "      <td>Summer</td>\n",
              "    </tr>\n",
              "    <tr>\n",
              "      <th>2</th>\n",
              "      <td>3</td>\n",
              "      <td>236.016237</td>\n",
              "      <td>Fall</td>\n",
              "    </tr>\n",
              "    <tr>\n",
              "      <th>3</th>\n",
              "      <td>4</td>\n",
              "      <td>198.868856</td>\n",
              "      <td>Winter</td>\n",
              "    </tr>\n",
              "  </tbody>\n",
              "</table>\n",
              "</div>"
            ],
            "text/plain": [
              "   season         cnt season_desc\n",
              "0       1  111.114569      Spring\n",
              "1       2  208.344069      Summer\n",
              "2       3  236.016237        Fall\n",
              "3       4  198.868856      Winter"
            ]
          },
          "execution_count": 29,
          "metadata": {},
          "output_type": "execute_result"
        }
      ],
      "source": [
        "# Mapping season ke deskripsi\n",
        "season_conditions = {\n",
        "    1: 'Spring',\n",
        "    2: 'Summer',\n",
        "    3: 'Fall',\n",
        "    4: 'Winter'\n",
        "}\n",
        "\n",
        "season_avg_rentals = hour_df.groupby('season')['cnt'].mean().reset_index()\n",
        "season_avg_rentals['season_desc'] = season_avg_rentals['season'].map(season_conditions)\n",
        "season_avg_rentals"
      ]
    },
    {
      "cell_type": "code",
      "execution_count": 31,
      "metadata": {},
      "outputs": [
        {
          "data": {
            "image/png": "[encoded data removed]",
            "text/plain": [
              "<Figure size 1200x700 with 1 Axes>"
            ]
          },
          "metadata": {},
          "output_type": "display_data"
        }
      ],
      "source": [
        "plt.figure(figsize=(12, 7))\n",
        "max_value = season_avg_rentals['cnt'].max()\n",
        "colors = ['blue' if x == max_value else 'gray' for x in season_avg_rentals['cnt']]\n",
        "\n",
        "plt.bar(season_avg_rentals['season_desc'], \n",
        "        season_avg_rentals['cnt'], \n",
        "        color=colors)\n",
        "\n",
        "plt.title('Average Rentals by Season', fontsize=14)\n",
        "plt.xlabel('Season', fontsize=12)\n",
        "plt.ylabel('Average Rentals (Unit)', fontsize=12)\n",
        "\n",
        "plt.show()\n"
      ]
    },
    {
      "cell_type": "markdown",
      "metadata": {},
      "source": [
        "**Insight**:\n",
        "- Tujuan analisis ini adalah untuk memahami bagaimana musim memengaruhi jumlah penyewaan sepeda, sehingga dapat mengidentifikasi tren musiman dan faktor lingkungan yang berkontribusi terhadap perubahan jumlah penyewaan. Dengan mengetahui pola ini, penyedia layanan dapat merencanakan strategi operasional yang lebih efektif, seperti menyesuaikan jumlah sepeda yang tersedia atau melakukan promosi pada musim tertentu guna meningkatkan penggunaan layanan.\n",
        "-  Musim semi (Spring) memiliki jumlah terendah yang mungkin disebabkan oleh curah hujan rendah atau faktor musiman lainnya. \n",
        "- Di musim panas (Summer), jumlah meningkat menjadi 208.34, kemungkinan akibat kondisi cuaca yang lebih kering atau perubahan lingkungan. \n",
        "- Musim gugur (Fall) mencatat jumlah tertinggi, yaitu 236.02, yang bisa disebabkan oleh peningkatan curah hujan atau faktor alam lainnya. S\n",
        "- Pada musim dingin, jumlah penyewaan mengalami penurunan menjadi 198.87, yang masih lebih tinggi dari musim semi dan panas, mungkin karena pengaruh salju atau hujan musim dingin."
      ]
    },
    {
      "cell_type": "markdown",
      "metadata": {
        "id": "_WeHlCeX8DC2"
      },
      "source": [
        "## Conclusion"
      ]
    },
    {
      "cell_type": "markdown",
      "metadata": {
        "id": "ZTcyR48Y8DC2"
      },
      "source": [
        "1. **Bagaimana perbedaan rata-rata penyewaan sepeda antara hari kerja dan hari libur?**\n",
        "   \n",
        "    Hasil analisis menunjukkan bahwa sepeda lebih banyak digunakan pada **hari kerja** dengan rata-rata penyewaan tertinggi sebesar 4.584,82. Hal ini mengindikasikan bahwa sepeda lebih sering dimanfaatkan sebagai alat transportasi utama dibandingkan sekadar untuk rekreasi. Sebaliknya, pada hari libur nasional, rata-rata penyewaan turun menjadi 3.735, yang menunjukkan bahwa orang cenderung lebih sedikit menggunakan sepeda saat hari libur resmi, kemungkinan karena aktivitas yang beralih ke tempat lain atau liburan keluarga.\n",
        "\n",
        "    Menariknya, pada hari tidak bekerja tetapi bukan libur nasional, penyewaan sepeda justru mencapai puncaknya, yaitu 8.714. Hal ini mengindikasikan bahwa sepeda lebih diminati untuk aktivitas santai saat libur non-resmi, seperti akhir pekan atau cuti bersama. Kenaikan signifikan ini mungkin disebabkan oleh lebih banyaknya waktu luang, cuaca yang mendukung, atau meningkatnya minat masyarakat dalam bersepeda sebagai aktivitas rekreasi di luar jam kerja.\n",
        "\n",
        "2. **Bagaimana perbedaan jumlah penyewaan sepeda antara jam sibuk (Peak Hours) dan jam tidak sibuk (Off-Peak Hours)?**\n",
        "   \n",
        "    Hasil analisis menunjukkan pola penyewaan sepeda berdasarkan waktu dalam sehari, yang terbagi menjadi jam sibuk, jam normal, dan jam sepi. Jam sibuk terjadi pada **pukul 8 pagi dan 16-19 sore**, dengan puncak penyewaan tertinggi pada pukul 17:00 (336.860 penyewaan) dan 18:00 (309.772 penyewaan). Hal ini mencerminkan pola perjalanan masyarakat saat berangkat dan pulang kerja atau sekolah, di mana sepeda banyak digunakan sebagai moda transportasi utama.\n",
        "\n",
        "    Sementara itu, jam normal berlangsung dari 10:00 hingga 22:00, dengan jumlah penyewaan yang tetap tinggi, meskipun tidak setinggi jam sibuk. Sebaliknya, pada jam sepi (Off-Peak), yang terjadi antara 00:00 hingga 05:00, penyewaan menurun drastis, dengan titik terendah pada pukul 04:00 (4.428 penyewaan). Hal ini menunjukkan bahwa sepeda jarang digunakan pada dini hari. Secara keseluruhan, tren ini mengindikasikan bahwa penggunaan sepeda sangat dipengaruhi oleh rutinitas harian masyarakat, terutama terkait pekerjaan, sekolah, dan kebutuhan transportasi utama."
      ]
    }
  ],
  "metadata": {
    "colab": {
      "provenance": []
    },
    "kernelspec": {
      "display_name": "Python 3",
      "language": "python",
      "name": "python3"
    },
    "language_info": {
      "codemirror_mode": {
        "name": "ipython",
        "version": 3
      },
      "file_extension": ".py",
      "mimetype": "text/x-python",
      "name": "python",
      "nbconvert_exporter": "python",
      "pygments_lexer": "ipython3",
      "version": "3.12.2"
    },
    "orig_nbformat": 4,
    "vscode": {
      "interpreter": {
        "hash": "972b3bf27e332e87b5379f2791f6ef9dfc79c71018c370b0d7423235e20fe4d7"
      }
    }
  },
  "nbformat": 4,
  "nbformat_minor": 0
}
